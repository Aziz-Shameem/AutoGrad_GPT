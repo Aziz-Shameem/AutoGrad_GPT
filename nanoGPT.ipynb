{
 "cells": [
  {
   "cell_type": "code",
   "execution_count": 29,
   "id": "f131712b",
   "metadata": {},
   "outputs": [],
   "source": [
    "import torch\n",
    "import torch.nn as nn\n",
    "from torch.nn import functional as F\n",
    "import numpy as np\n",
    "import random\n",
    "import matplotlib.pyplot as plt"
   ]
  },
  {
   "cell_type": "code",
   "execution_count": 8,
   "id": "e311034a",
   "metadata": {},
   "outputs": [
    {
     "name": "stdout",
     "output_type": "stream",
     "text": [
      "1115394\n"
     ]
    },
    {
     "data": {
      "text/plain": [
       "'First Citizen:\\nBefore we proceed any further, hear me speak.\\n\\nAll:\\nSpeak, speak.\\n\\nFirst Citizen:\\nYou'"
      ]
     },
     "execution_count": 8,
     "metadata": {},
     "output_type": "execute_result"
    }
   ],
   "source": [
    "with open('input.txt', 'r') as f :\n",
    "    data_in = f.read()\n",
    "print(len(data_in))\n",
    "data_in[:100]"
   ]
  },
  {
   "cell_type": "code",
   "execution_count": 30,
   "id": "9548e082",
   "metadata": {},
   "outputs": [
    {
     "name": "stdout",
     "output_type": "stream",
     "text": [
      "65\n",
      "\n",
      " !$&',-.3:;?ABCDEFGHIJKLMNOPQRSTUVWXYZabcdefghijklmnopqrstuvwxyz\n"
     ]
    }
   ],
   "source": [
    "chrs = sorted(list(set(data_in)))\n",
    "vocab_size = len(chrs)\n",
    "print(vocab_size)\n",
    "print(''.join(chrs))"
   ]
  },
  {
   "cell_type": "code",
   "execution_count": 10,
   "id": "cc1da143",
   "metadata": {},
   "outputs": [
    {
     "name": "stdout",
     "output_type": "stream",
     "text": [
      "[20, 47, 47, 1, 32, 46, 43, 56, 43]\n",
      "Hii There\n"
     ]
    }
   ],
   "source": [
    "stoi = {s:i for i,s in enumerate(chrs)}\n",
    "itos = {i:s for s,i in stoi.items()}\n",
    "encode = lambda s:[stoi[c] for c in s]\n",
    "decode = lambda i:''.join([itos[x] for x in i])\n",
    "\n",
    "print(encode('Hii There'))\n",
    "print(decode(encode('Hii There')))"
   ]
  },
  {
   "cell_type": "code",
   "execution_count": 14,
   "id": "1044f6f6",
   "metadata": {},
   "outputs": [
    {
     "name": "stdout",
     "output_type": "stream",
     "text": [
      "[18, 47, 56, 57, 58, 1, 15, 47, 58, 47, 64, 43, 52, 10, 0, 14, 43, 44, 53, 56, 43, 1, 61, 43, 1, 54, 56, 53, 41, 43, 43, 42, 1, 39, 52, 63, 1, 44, 59, 56, 58, 46, 43, 56, 6, 1, 46, 43, 39, 56, 1, 51, 43, 1, 57, 54, 43, 39, 49, 8, 0, 0, 13, 50, 50, 10, 0, 31, 54, 43, 39, 49, 6, 1, 57, 54, 43, 39, 49, 8, 0, 0, 18, 47, 56, 57, 58, 1, 15, 47, 58, 47, 64, 43, 52, 10, 0, 37, 53, 59]\n"
     ]
    }
   ],
   "source": [
    "data = encode(data_in)\n",
    "print(data[:100])"
   ]
  },
  {
   "cell_type": "code",
   "execution_count": 17,
   "id": "ce91ef9b",
   "metadata": {},
   "outputs": [
    {
     "name": "stdout",
     "output_type": "stream",
     "text": [
      "1003854\n",
      "111540\n"
     ]
    }
   ],
   "source": [
    "n = int(0.9*len(data))\n",
    "train_data = data[:n]\n",
    "val_data = data[n:]\n",
    "print(len(train_data))\n",
    "print(len(val_data))"
   ]
  },
  {
   "cell_type": "code",
   "execution_count": 27,
   "id": "1250f272",
   "metadata": {},
   "outputs": [
    {
     "name": "stdout",
     "output_type": "stream",
     "text": [
      "torch.Size([4, 8])\n",
      "tensor([[24, 43, 58,  5, 57,  1, 46, 43],\n",
      "        [44, 53, 56,  1, 58, 46, 39, 58],\n",
      "        [52, 58,  1, 58, 46, 39, 58,  1],\n",
      "        [25, 17, 27, 10,  0, 21,  1, 54]])\n",
      "torch.Size([4, 8])\n",
      "tensor([[43, 58,  5, 57,  1, 46, 43, 39],\n",
      "        [53, 56,  1, 58, 46, 39, 58,  1],\n",
      "        [58,  1, 58, 46, 39, 58,  1, 46],\n",
      "        [17, 27, 10,  0, 21,  1, 54, 39]])\n"
     ]
    }
   ],
   "source": [
    "torch.manual_seed(1337)\n",
    "block_size = 8\n",
    "batch_size = 4\n",
    "def get_batch(split) :\n",
    "    data = torch.tensor(train_data if split=='train' else val_data)\n",
    "    ix = torch.randint(len(data)-block_size, (batch_size,)) # getting random offsets\n",
    "    x = torch.stack([data[i:i+block_size] for i in ix])\n",
    "    y = torch.stack([data[i+1:i+block_size+1] for i in ix])\n",
    "    return x, y\n",
    "\n",
    "xb, yb = get_batch('train')\n",
    "print(xb.shape, xb, sep='\\n')\n",
    "print(yb.shape, yb, sep='\\n')"
   ]
  },
  {
   "cell_type": "code",
   "execution_count": 64,
   "id": "ca0118dd",
   "metadata": {},
   "outputs": [
    {
     "name": "stdout",
     "output_type": "stream",
     "text": [
      "torch.Size([4, 8, 65]) tensor(4.8786, grad_fn=<NllLossBackward0>)\n"
     ]
    }
   ],
   "source": [
    "# making the simplest, Bigram model\n",
    "torch.manual_seed(1337)\n",
    "class Bigram(nn.Module) :\n",
    "    def __init__(self, vocab_size) :\n",
    "        super().__init__()\n",
    "        self.emb = nn.Embedding(vocab_size, vocab_size)\n",
    "    def forward(self, idx, targets=None) :\n",
    "        logits = self.emb(idx) # outputs (B,T,C)\n",
    "        B, T, C = logits.shape\n",
    "        logits1 = logits.view(B*T, C)\n",
    "        if targets!=None :\n",
    "            targets = targets.view(B*T)\n",
    "            loss = F.cross_entropy(logits1, targets)\n",
    "        else : loss=None\n",
    "        return logits, loss\n",
    "    def generate(self, idx, new_tokens) :\n",
    "        # Takes in (B, T), outputs (B, T+new_tokens)\n",
    "        for _ in range(new_tokens) :\n",
    "            logits, loss = self(idx)\n",
    "            logits = logits[:, -1, :] # focus on the last time step\n",
    "            probs = F.softmax(logits, dim=-1)\n",
    "            samples = torch.multinomial(probs, num_samples=1)\n",
    "            idx = torch.cat([idx, samples], axis=1)\n",
    "        return idx\n",
    "    \n",
    "model = Bigram(vocab_size)\n",
    "out, loss = model(xb, yb)\n",
    "print(out.shape, loss)"
   ]
  },
  {
   "cell_type": "code",
   "execution_count": 67,
   "id": "8ed840c8",
   "metadata": {},
   "outputs": [
    {
     "name": "stdout",
     "output_type": "stream",
     "text": [
      "\n",
      "KuBZvrpxZQgC-hlkq,ptKqHoiX-jjeLJ &slERj KUsBOL!mpJO!zLg'wNfqHAMgq'hZCWhu.W.IBcP \n",
      "RFJ&DEs,nw?pxE?xjNH\n"
     ]
    }
   ],
   "source": [
    "# Trying the untrained model with an initial input of zero\n",
    "ix = torch.zeros((1,1), dtype=torch.long)\n",
    "print(decode(model.generate(ix, new_tokens=100)[0].tolist()))"
   ]
  },
  {
   "cell_type": "code",
   "execution_count": 75,
   "id": "10821ff5",
   "metadata": {},
   "outputs": [],
   "source": [
    "batch_size = 32\n",
    "lossi = []\n",
    "optimiser = torch.optim.AdamW(model.parameters())\n",
    "for _ in range(10000) : # epochs\n",
    "    xb, yb = get_batch('train')\n",
    "    logits, loss = model(xb, yb)\n",
    "    lossi.append(loss.detach().item())\n",
    "    optimiser.zero_grad()\n",
    "    loss.backward()\n",
    "    optimiser.step()"
   ]
  },
  {
   "cell_type": "code",
   "execution_count": 76,
   "id": "f0d7072b",
   "metadata": {},
   "outputs": [
    {
     "data": {
      "text/plain": [
       "[<matplotlib.lines.Line2D at 0x12e8af10520>]"
      ]
     },
     "execution_count": 76,
     "metadata": {},
     "output_type": "execute_result"
    },
    {
     "data": {
      "image/png": "[encoded data removed]",
      "text/plain": [
       "<Figure size 432x288 with 1 Axes>"
      ]
     },
     "metadata": {
      "needs_background": "light"
     },
     "output_type": "display_data"
    }
   ],
   "source": [
    "plt.plot(lossi)"
   ]
  },
  {
   "cell_type": "code",
   "execution_count": 77,
   "id": "82049601",
   "metadata": {},
   "outputs": [
    {
     "name": "stdout",
     "output_type": "stream",
     "text": [
      "\n",
      "Thisaru t IAREEroutersay.\n",
      "AD:\n",
      "Se m ane! ctcobsad, s IAle h mexK:\n",
      "We, makisoung, hall-hithin p wate s\n"
     ]
    }
   ],
   "source": [
    "# Trying the untrained model with an initial input of zero\n",
    "ix = torch.zeros((1,1), dtype=torch.long)\n",
    "print(decode(model.generate(ix, new_tokens=100)[0].tolist()))"
   ]
  },
  {
   "cell_type": "code",
   "execution_count": null,
   "id": "2503bc8b",
   "metadata": {},
   "outputs": [],
   "source": [
    "# making the simplest, Bigram model\n",
    "torch.manual_seed(1337)\n",
    "vocab_size = len(chrs)\n",
    "n_embed = 32\n",
    "class Bigramv2(nn.Module) :\n",
    "    def __init__(self) :\n",
    "        super().__init__()\n",
    "        self.emb = nn.Embedding(vocab_size, n_embed)\n",
    "        self.pos_emb = nn.Embedding(vocab_size, n_embed)\n",
    "        self.lm_head = nn.Linear(n_embed, vocab_size)\n",
    "    def forward(self, idx, targets=None) :\n",
    "        logits = self.emb(idx) # outputs (B,T,C)\n",
    "        posemb = self.pos_emb(torch.arange(T)) # (T,C)\n",
    "        logits = logits + posemb\n",
    "        logits = self.lm_head(logits) # (B, T, vocab_size)\n",
    "        B, T, C = logits.shape\n",
    "        logits1 = logits.view(B*T, C)\n",
    "        if targets!=None :\n",
    "            targets = targets.view(B*T)\n",
    "            loss = F.cross_entropy(logits1, targets)\n",
    "        else : loss=None\n",
    "        return logits, loss\n",
    "    def generate(self, idx, new_tokens) :\n",
    "        # Takes in (B, T), outputs (B, T+new_tokens)\n",
    "        for _ in range(new_tokens) :\n",
    "            logits, loss = self(idx)\n",
    "            logits = logits[:, -1, :] # focus on the last time step\n",
    "            probs = F.softmax(logits, dim=-1)\n",
    "            samples = torch.multinomial(probs, num_samples=1)\n",
    "            idx = torch.cat([idx, samples], axis=1)\n",
    "        return idx\n",
    "    \n",
    "model = Bigram(vocab_size)\n",
    "out, loss = model(xb, yb)\n",
    "print(out.shape, loss)"
   ]
  },
  {
   "cell_type": "code",
   "execution_count": 95,
   "id": "65b86f8c",
   "metadata": {},
   "outputs": [],
   "source": [
    "# implementing a single head of self attention\n",
    "B,T,C = 4,8,32\n",
    "head_size = 16\n",
    "key = nn.Linear(C, head_size, bias=False)\n",
    "query = nn.Linear(C, head_size, bias=False)\n",
    "value = nn.Linear(C, head_size, bias=False)\n",
    "x = torch.randn((B,T,C)) # input \n",
    "\n",
    "k = key(x) # (B, T, head_size)\n",
    "q = query(x) # # (B, T, head_size)\n",
    "wei = q @ k.transpose(-2,-1) ** head_size**-0.5 # (B, T, T)\n",
    "# the scaling is used to control the variance of the output, since that is going to be passed through softmax\n",
    "\n",
    "tril = torch.tril(torch.ones((T,T)))\n",
    "wei_masked = wei.masked_fill(tril==0, float('-inf')) # B, T, T\n",
    "wei_softed = F.softmax(wei_masked, dim=-1) # (B, T, T)\n",
    "\n",
    "v = value(x)\n",
    "out = wei_softed @ v # (B,T, T) @ (B, T, head_size) --> (B, T, head_size)\n"
   ]
  },
  {
   "cell_type": "code",
   "execution_count": 96,
   "id": "ceb36ac0",
   "metadata": {},
   "outputs": [
    {
     "data": {
      "text/plain": [
       "torch.Size([4, 8, 16])"
      ]
     },
     "execution_count": 96,
     "metadata": {},
     "output_type": "execute_result"
    }
   ],
   "source": [
    "out.shape"
   ]
  },
  {
   "cell_type": "code",
   "execution_count": 169,
   "id": "acdb1816",
   "metadata": {},
   "outputs": [],
   "source": [
    "# creating the self attention class\n",
    "n_embed = 32\n",
    "head_size = 16\n",
    "block_size = 8\n",
    "torch.manual_seed(1337)\n",
    "class Head(nn.Module) :\n",
    "    def __init__(self, head_size) :\n",
    "        super().__init__()\n",
    "        self.key = nn.Linear(n_embed, head_size, bias=False)\n",
    "        self.query = nn.Linear(n_embed, head_size, bias=False)\n",
    "        self.value = nn.Linear(n_embed, head_size, bias=False)\n",
    "        self.register_buffer('tril', torch.tril(torch.ones((block_size,block_size))))\n",
    "    def forward(self, x) :\n",
    "        k = self.key(x)\n",
    "        q = self.query(x)\n",
    "        v = self.value(x)\n",
    "        wei = q @ k.transpose(-2,-1) * x.shape[2]**-0.5\n",
    "        wei_masked = wei.masked_fill(tril==0, float('-inf')) \n",
    "        wei_softed = F.softmax(wei_masked, dim=-1)\n",
    "        out = wei_softed @ v\n",
    "        return out\n",
    "class MultiHeadAttention(nn.Module) :\n",
    "    def __init__(self, num_heads, head_size) :\n",
    "        super().__init__()\n",
    "        self.heads = nn.ModuleList([Head(head_size) for _ in range(num_heads)])\n",
    "    def forward(self, x) :\n",
    "        return torch.cat([h(x) for h in self.heads], dim=-1)\n",
    "    \n",
    "class FeedForward(nn.Module) :\n",
    "    def __init__(self, n_embed) :\n",
    "        super().__init__()\n",
    "        self.ff = nn.Sequential(\n",
    "            nn.Linear(n_embed, n_embed),\n",
    "            nn.ReLU()\n",
    "        )\n",
    "    def forward(self, x) :\n",
    "        return self.ff(x)\n",
    "\n",
    "class Bigramv3(nn.Module) :\n",
    "    def __init__(self) :\n",
    "        super().__init__()\n",
    "        self.emb = nn.Embedding(vocab_size, n_embed)\n",
    "        self.pos_emb = nn.Embedding(vocab_size, n_embed)\n",
    "        self.sa_heads = MultiHeadAttention(4, n_embed//4)\n",
    "        self.fwd = FeedForward(n_embed)\n",
    "        self.lm_head = nn.Linear(n_embed, vocab_size)\n",
    "    def forward(self, idx, targets=None) :\n",
    "#         print(f'{targets=}')\n",
    "        logits = self.emb(idx) # outputs (B,T,C)\n",
    "        posemb = self.pos_emb(torch.arange(logits.shape[1])) # (T,C)\n",
    "        logits = logits + posemb\n",
    "        logits = self.sa_heads(logits)\n",
    "        logits = self.fwd(logits)\n",
    "        logits = self.lm_head(logits) # (B, T, vocab_size)\n",
    "        B, T, C = logits.shape\n",
    "        logits1 = logits.view(B*T, C)\n",
    "        if targets!=None :\n",
    "            targets = targets.view(B*T)\n",
    "            loss = F.cross_entropy(logits1, targets)\n",
    "        else : loss=None\n",
    "        return logits, loss\n",
    "    def generate(self, idx, new_tokens) :\n",
    "        # Takes in (B, T), outputs (B, T+new_tokens)\n",
    "        for _ in range(new_tokens) :\n",
    "            idx_cond = idx[:, -block_size:] # cropping, so that max length in dim=1 is blocksize\n",
    "            logits, loss = self(idx_cond)\n",
    "            logits = logits[:, -1, :] # focus on the last time step\n",
    "            probs = F.softmax(logits, dim=-1)\n",
    "            samples = torch.multinomial(probs, num_samples=1)\n",
    "            idx = torch.cat([idx, samples], axis=1)\n",
    "        return idx\n",
    "    "
   ]
  },
  {
   "cell_type": "code",
   "execution_count": 172,
   "id": "1ff94223",
   "metadata": {},
   "outputs": [
    {
     "name": "stdout",
     "output_type": "stream",
     "text": [
      "step=0 , loss : 4.159816741943359\n",
      "step=500 , loss : 2.5311853885650635\n",
      "step=1000 , loss : 2.3970253467559814\n",
      "step=1500 , loss : 2.3273863792419434\n",
      "step=2000 , loss : 2.408658504486084\n",
      "step=2500 , loss : 2.4347546100616455\n",
      "step=3000 , loss : 2.368178606033325\n",
      "step=3500 , loss : 2.391223669052124\n",
      "step=4000 , loss : 2.4107677936553955\n",
      "step=4500 , loss : 2.3575146198272705\n"
     ]
    },
    {
     "data": {
      "text/plain": [
       "[<matplotlib.lines.Line2D at 0x12e8acb9cd0>]"
      ]
     },
     "execution_count": 172,
     "metadata": {},
     "output_type": "execute_result"
    },
    {
     "data": {
      "image/png": "[encoded data removed]",
      "text/plain": [
       "<Figure size 432x288 with 1 Axes>"
      ]
     },
     "metadata": {
      "needs_background": "light"
     },
     "output_type": "display_data"
    }
   ],
   "source": [
    "batch_size = 32\n",
    "lossi = []\n",
    "\n",
    "model = Bigramv3()\n",
    "out, loss = model(xb, yb)\n",
    "\n",
    "optimiser = torch.optim.AdamW(model.parameters())\n",
    "for step in range(5000) : # epochs\n",
    "    xb, yb = get_batch('train')\n",
    "    logits, loss = model(xb, yb)\n",
    "    lossi.append(loss.detach().item())\n",
    "    optimiser.zero_grad()\n",
    "    loss.backward()\n",
    "    optimiser.step()\n",
    "    if step%500==0 :\n",
    "        print(f'{step=} , loss : {lossi[-1]}')\n",
    "plt.plot(lossi)"
   ]
  },
  {
   "cell_type": "code",
   "execution_count": 184,
   "id": "d3570e27",
   "metadata": {},
   "outputs": [
    {
     "name": "stdout",
     "output_type": "stream",
     "text": [
      "GUKET:\n",
      "Aithe thaply!\n",
      "\n",
      "Iw kin tand this he aandos yeat incere,\n",
      "Ther me heng Witelar.\n",
      "\n",
      "Jich of sered t\n"
     ]
    }
   ],
   "source": [
    "# Trying the untrained model with an initial input of zero\n",
    "ix = torch.zeros((1,8), dtype=torch.long)\n",
    "print(decode(model.generate(ix, new_tokens=100)[0].tolist())[8:])"
   ]
  },
  {
   "cell_type": "code",
   "execution_count": 193,
   "id": "74a85267",
   "metadata": {},
   "outputs": [],
   "source": [
    "# creating the self attention class\n",
    "n_embed = 32\n",
    "head_size = 16\n",
    "block_size = 8\n",
    "torch.manual_seed(1337)\n",
    "class LayerNorm1d(nn.Module) :\n",
    "    def __init__(self, dim, eps=1e-5, momentum=0.1) :\n",
    "        super().__init__()\n",
    "        self.eps = eps\n",
    "        self.gamma = torch.ones(dim) # batch norm gain\n",
    "        self.beta = torch.zeros(dim) # batch norm bias\n",
    "        \n",
    "    def __call__(self, x) :\n",
    "        mean = x.mean(1, keepdims=True) # this is the only change from batchnorm\n",
    "        var = x.var(1, keepdims=True)\n",
    "        self.out = self.gamma*(x - mean) / torch.sqrt(var+self.eps) + self.beta\n",
    "        \n",
    "        return self.out\n",
    "    def parameters(self) :\n",
    "        return [self.gamma, self.beta]\n",
    "    \n",
    "class Head(nn.Module) :\n",
    "    def __init__(self, head_size) :\n",
    "        super().__init__()\n",
    "        self.key = nn.Linear(n_embed, head_size, bias=False)\n",
    "        self.query = nn.Linear(n_embed, head_size, bias=False)\n",
    "        self.value = nn.Linear(n_embed, head_size, bias=False)\n",
    "        self.register_buffer('tril', torch.tril(torch.ones((block_size,block_size))))\n",
    "    def forward(self, x) :\n",
    "        k = self.key(x)\n",
    "        q = self.query(x)\n",
    "        v = self.value(x)\n",
    "        wei = q @ k.transpose(-2,-1) * x.shape[2]**-0.5\n",
    "        wei_masked = wei.masked_fill(tril==0, float('-inf')) \n",
    "        wei_softed = F.softmax(wei_masked, dim=-1)\n",
    "        out = wei_softed @ v\n",
    "        return out\n",
    "class MultiHeadAttention(nn.Module) :\n",
    "    def __init__(self, num_heads, head_size) :\n",
    "        super().__init__()\n",
    "        self.heads = nn.ModuleList([Head(head_size) for _ in range(num_heads)])\n",
    "        self.proj = nn.Linear(n_embed, n_embed)\n",
    "    def forward(self, x) :\n",
    "        out = torch.cat([h(x) for h in self.heads], dim=-1)\n",
    "        return self.proj(out)\n",
    "\n",
    "    \n",
    "class FeedForward(nn.Module) :\n",
    "    def __init__(self, n_embed) :\n",
    "        super().__init__()\n",
    "        self.ff = nn.Sequential(\n",
    "            nn.Linear(n_embed, 4*n_embed),\n",
    "            nn.ReLU(),\n",
    "            nn.Linear(4*n_embed, n_embed)\n",
    "        )\n",
    "    def forward(self, x) :\n",
    "        return self.ff(x)\n",
    "\n",
    "class Block(nn.Module) :\n",
    "    def __init__(self, n_embed, n_head) :\n",
    "        super().__init__()\n",
    "        head_size = n_embed // n_head\n",
    "        self.sa = MultiHeadAttention(n_head, head_size)\n",
    "        self.fwd = FeedForward(n_embed)\n",
    "        self.ln1 = nn.LayerNorm(n_embed)\n",
    "        self.ln2 = nn.LayerNorm(n_embed)\n",
    "        # seperate norm layers since params different\n",
    "    def forward(self, x) :\n",
    "        x = x + self.sa(self.ln1(x)) # adding residual connections, helps with grads\n",
    "        x = x + self.fwd(self.ln2(x)) # adding layer normalisation as well, similar to batch norm\n",
    "        return x\n",
    "\n",
    "class Bigramv4(nn.Module) :\n",
    "    def __init__(self) :\n",
    "        super().__init__()\n",
    "        self.emb = nn.Embedding(vocab_size, n_embed)\n",
    "        self.pos_emb = nn.Embedding(vocab_size, n_embed)\n",
    "        self.lm_head = nn.Linear(n_embed, vocab_size)\n",
    "        \n",
    "        self.blocks = nn.Sequential(\n",
    "            Block(n_embed, 4),\n",
    "            Block(n_embed, 4),\n",
    "            Block(n_embed, 4),\n",
    "            LayerNorm1d(n_embed)\n",
    "        )\n",
    "    def forward(self, idx, targets=None) :\n",
    "#         print(f'{targets=}')\n",
    "        logits = self.emb(idx) # outputs (B,T,C)\n",
    "        posemb = self.pos_emb(torch.arange(logits.shape[1])) # (T,C)\n",
    "        logits = logits + posemb\n",
    "        logits = self.blocks(logits)\n",
    "        logits = self.lm_head(logits) # (B, T, vocab_size)\n",
    "        B, T, C = logits.shape\n",
    "        logits1 = logits.view(B*T, C)\n",
    "        if targets!=None :\n",
    "            targets = targets.view(B*T)\n",
    "            loss = F.cross_entropy(logits1, targets)\n",
    "        else : loss=None\n",
    "        return logits, loss\n",
    "    def generate(self, idx, new_tokens) :\n",
    "        # Takes in (B, T), outputs (B, T+new_tokens)\n",
    "        for _ in range(new_tokens) :\n",
    "            idx_cond = idx[:, -block_size:] # cropping, so that max length in dim=1 is blocksize\n",
    "            logits, loss = self(idx_cond)\n",
    "            logits = logits[:, -1, :] # focus on the last time step\n",
    "            probs = F.softmax(logits, dim=-1)\n",
    "            samples = torch.multinomial(probs, num_samples=1)\n",
    "            idx = torch.cat([idx, samples], axis=1)\n",
    "        return idx\n",
    "    "
   ]
  },
  {
   "cell_type": "code",
   "execution_count": 194,
   "id": "17bc3586",
   "metadata": {},
   "outputs": [
    {
     "name": "stdout",
     "output_type": "stream",
     "text": [
      "step=0 , loss : 4.275749683380127\n",
      "step=500 , loss : 1.5970845222473145\n",
      "step=1000 , loss : 1.434525728225708\n",
      "step=1500 , loss : 1.0263235569000244\n",
      "step=2000 , loss : 0.8065274357795715\n",
      "step=2500 , loss : 0.8270025849342346\n",
      "step=3000 , loss : 0.743393063545227\n",
      "step=3500 , loss : 0.5829977989196777\n",
      "step=4000 , loss : 0.7124517560005188\n",
      "step=4500 , loss : 0.5646693706512451\n"
     ]
    },
    {
     "data": {
      "text/plain": [
       "[<matplotlib.lines.Line2D at 0x12e861aee20>]"
      ]
     },
     "execution_count": 194,
     "metadata": {},
     "output_type": "execute_result"
    },
    {
     "data": {
      "image/png": "[encoded data removed]",
      "text/plain": [
       "<Figure size 432x288 with 1 Axes>"
      ]
     },
     "metadata": {
      "needs_background": "light"
     },
     "output_type": "display_data"
    }
   ],
   "source": [
    "batch_size = 32\n",
    "lossi = []\n",
    "\n",
    "model = Bigramv4()\n",
    "out, loss = model(xb, yb)\n",
    "\n",
    "optimiser = torch.optim.AdamW(model.parameters())\n",
    "for step in range(5000) : # epochs\n",
    "    xb, yb = get_batch('train')\n",
    "    logits, loss = model(xb, yb)\n",
    "    lossi.append(loss.detach().item())\n",
    "    optimiser.zero_grad()\n",
    "    loss.backward()\n",
    "    optimiser.step()\n",
    "    if step%500==0 :\n",
    "        print(f'{step=} , loss : {lossi[-1]}')\n",
    "plt.plot(lossi)"
   ]
  },
  {
   "cell_type": "code",
   "execution_count": null,
   "id": "c5d78fe9",
   "metadata": {},
   "outputs": [],
   "source": []
  }
 ],
 "metadata": {
  "kernelspec": {
   "display_name": "Python 3",
   "language": "python",
   "name": "python3"
  },
  "language_info": {
   "codemirror_mode": {
    "name": "ipython",
    "version": 3
   },
   "file_extension": ".py",
   "mimetype": "text/x-python",
   "name": "python",
   "nbconvert_exporter": "python",
   "pygments_lexer": "ipython3",
   "version": "3.8.8"
  }
 },
 "nbformat": 4,
 "nbformat_minor": 5
}
