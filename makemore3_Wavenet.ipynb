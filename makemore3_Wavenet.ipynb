{
 "cells": [
  {
   "cell_type": "code",
   "execution_count": 2,
   "id": "07bcebc7",
   "metadata": {},
   "outputs": [],
   "source": [
    "import numpy as np\n",
    "import matplotlib.pyplot as plt\n",
    "import torch\n",
    "import torch.nn.functional as F\n",
    "import random"
   ]
  },
  {
   "cell_type": "code",
   "execution_count": 3,
   "id": "109f250e",
   "metadata": {},
   "outputs": [
    {
     "data": {
      "text/plain": [
       "['emma', 'olivia', 'ava', 'isabella', 'sophia']"
      ]
     },
     "execution_count": 3,
     "metadata": {},
     "output_type": "execute_result"
    }
   ],
   "source": [
    "words = open('names.txt', 'r').read().splitlines()\n",
    "words[:5]"
   ]
  },
  {
   "cell_type": "code",
   "execution_count": 4,
   "id": "ea257d27",
   "metadata": {},
   "outputs": [],
   "source": [
    "# helper functions\n",
    "chrs = sorted(list(set(''.join(words))))\n",
    "stoi = {s:i+1 for i,s in enumerate(chrs)}\n",
    "stoi['.'] = 0\n",
    "itos = {i:s for s,i in stoi.items()}"
   ]
  },
  {
   "cell_type": "code",
   "execution_count": 55,
   "id": "721b1047",
   "metadata": {},
   "outputs": [
    {
     "data": {
      "text/plain": [
       "(torch.Size([205435, 8]), torch.Size([205435]))"
      ]
     },
     "execution_count": 55,
     "metadata": {},
     "output_type": "execute_result"
    }
   ],
   "source": [
    "block_size = 8\n",
    "def build(words) :\n",
    "    X = []\n",
    "    Y = []\n",
    "    for w in words :\n",
    "        context = [0]*block_size\n",
    "        for i, c in enumerate(w + '.') :\n",
    "            ix = stoi[c]\n",
    "            l = [itos[cont] for cont in context]\n",
    "            X.append(context)\n",
    "            Y.append(ix)\n",
    "    #         print(''.join(l), '-->', c)\n",
    "            context = context[1:] + [ix]\n",
    "    X = torch.tensor(X)\n",
    "    Y = torch.tensor(Y)\n",
    "    return X, Y\n",
    "\n",
    "# splitting into train and test(10%)\n",
    "random.shuffle(words)\n",
    "n = int(0.1*len(words))\n",
    "Xtest, Ytest = build(words[:n])\n",
    "Xtr, Ytr = build(words[n:])\n",
    "Xtr.shape, Ytr.shape"
   ]
  },
  {
   "cell_type": "code",
   "execution_count": 93,
   "id": "d3f48a10",
   "metadata": {},
   "outputs": [],
   "source": [
    "class Linear :\n",
    "    def __init__(self, fanin, fanout, bias=True) :\n",
    "        self.w = torch.randn((fanin, fanout), generator=g) / fanin**0.5 # the division preserves std, also implemented in pytorch\n",
    "        self.b = torch.randn((fanout,)) if bias else None\n",
    "    def __call__(self, x) :\n",
    "        self.out = x @ self.w\n",
    "        if self.b is not None:\n",
    "            self.out += self.b\n",
    "        return self.out\n",
    "    def parameters(self) :\n",
    "        return [self.w] + ([self.b] if self.b is not None else [])\n",
    "    \n",
    "class BatchNorm1d :\n",
    "    def __init__(self, dim, eps=1e-5, momentum=0.1) :\n",
    "        self.eps = eps\n",
    "        self.momentum = momentum\n",
    "        self.training = True # since batch norm internals work differently during training and inference\n",
    "        self.gamma = torch.ones(dim) # batch norm gain\n",
    "        self.beta = torch.zeros(dim) # batch norm bias\n",
    "        self.running_mean = torch.zeros(dim)\n",
    "        self.running_var = torch.ones(dim)\n",
    "        \n",
    "    def __call__(self, x) :\n",
    "        if self.training :\n",
    "            if x.ndim==2 : # now takes 3 dimensional input as well\n",
    "                dim = 0\n",
    "            elif x.ndim==3 :\n",
    "                dim = (0,1)\n",
    "            mean = x.mean(dim, keepdims=True)\n",
    "            var = x.var(dim, keepdims=True)\n",
    "        else :\n",
    "            mean = self.running_mean\n",
    "            var = self.running_var\n",
    "        self.out = self.gamma*(x - mean) / torch.sqrt(var+self.eps) + self.beta\n",
    "        \n",
    "        if self.training :\n",
    "            with torch.no_grad() :\n",
    "                self.running_mean = self.running_mean*(1-self.momentum) + mean*self.momentum\n",
    "                self.running_var = self.running_var*(1-self.momentum) + var*self.momentum\n",
    "        return self.out\n",
    "    def parameters(self) :\n",
    "        return [self.gamma, self.beta]\n",
    "    \n",
    "class Tanh :\n",
    "    def __call__(self, x) :\n",
    "        self.out = x.tanh()\n",
    "        return self.out\n",
    "    def parameters(self) :\n",
    "        return []\n",
    "    \n",
    "class Embedding :\n",
    "    def __init__(self, num_embeddings, embedding_dim) :\n",
    "        self.w = torch.randn((num_embeddings, embedding_dim))\n",
    "    def __call__(self, x) :\n",
    "        self.out = self.w[x] \n",
    "        return self.out\n",
    "    def parameters(self) :\n",
    "        return [self.w]\n",
    "    \n",
    "class Flatten : # adding the multi-flatten functionality as well\n",
    "    def __init__(self, n=3) :\n",
    "        self.n = n\n",
    "    def __call__(self, x) :\n",
    "        B, T, C = x.shape\n",
    "        x = x.view(B, -1, C*self.n)\n",
    "        if x.shape[1]==1 :\n",
    "            x = x.squeeze(1) # removing the spurious dimension\n",
    "        self.out = x\n",
    "        return self.out\n",
    "    def parameters(self) :\n",
    "        return []\n",
    "    \n",
    "class Sequential :\n",
    "    def __init__(self, layers) :\n",
    "        self.layers = layers\n",
    "    def __call__(self, x) :\n",
    "        for layer in self.layers :\n",
    "            x = layer(x)\n",
    "#             print(layer,__class__.__name__, ' : ', x.shape)\n",
    "        self.out = x\n",
    "        return self.out\n",
    "    def parameters(self) :\n",
    "        return [p for layer in self.layers for p in layer.parameters()]"
   ]
  },
  {
   "cell_type": "code",
   "execution_count": 94,
   "id": "bda2b8d9",
   "metadata": {},
   "outputs": [],
   "source": [
    "embed_shape = 10\n",
    "nhidden = 68 # 200\n",
    "# block_size = 8\n",
    "g = torch.Generator().manual_seed(2147483647) # for reproducibility\n",
    "\n",
    "# C = torch.randn((27,embed_shape), generator=g) # embedding map\n",
    "model = Sequential([\n",
    "    Embedding(27, embed_shape), Flatten(2),\n",
    "    Linear(2*embed_shape, nhidden, bias=False), BatchNorm1d(nhidden), Tanh(), Flatten(2),\n",
    "    Linear(2*nhidden, nhidden, bias=False), BatchNorm1d(nhidden), Tanh(), Flatten(2),\n",
    "    Linear(2*nhidden, nhidden, bias=False), BatchNorm1d(nhidden), Tanh(),\n",
    "    Linear(nhidden, 27)\n",
    "]) # layers of the network\n",
    "\n",
    "with torch.no_grad() :\n",
    "    model.layers[-1].w *= 0.1 # lowering the confidence in the final layer\n",
    "    for layer in layers[:-1] :\n",
    "        if isinstance(layer, Linear) :\n",
    "            model.layer.w *= (5/3) # gain for tanh\n",
    "params = model.parameters()\n",
    "for p in params :\n",
    "    p.requires_grad = True"
   ]
  },
  {
   "cell_type": "code",
   "execution_count": 95,
   "id": "e6f8c7be",
   "metadata": {},
   "outputs": [
    {
     "name": "stdout",
     "output_type": "stream",
     "text": [
      "step:     0 / 200000 loss 3.3265309\n",
      "step: 10000 / 200000 loss 2.2113678\n",
      "step: 20000 / 200000 loss 1.6953472\n",
      "step: 30000 / 200000 loss 2.1423116\n",
      "step: 40000 / 200000 loss 2.3081400\n",
      "step: 50000 / 200000 loss 3.0312290\n",
      "step: 60000 / 200000 loss 2.1745002\n",
      "step: 70000 / 200000 loss 2.3692713\n",
      "step: 80000 / 200000 loss 2.0714142\n",
      "step: 90000 / 200000 loss 1.8538692\n",
      "step: 100000 / 200000 loss 2.2627044\n",
      "step: 110000 / 200000 loss 1.8104047\n",
      "step: 120000 / 200000 loss 1.9797316\n",
      "step: 130000 / 200000 loss 2.1659539\n",
      "step: 140000 / 200000 loss 2.4018681\n",
      "step: 150000 / 200000 loss 1.9069350\n",
      "step: 160000 / 200000 loss 1.9714333\n",
      "step: 170000 / 200000 loss 2.1993754\n",
      "step: 180000 / 200000 loss 1.7353581\n",
      "step: 190000 / 200000 loss 2.3414338\n",
      "step: 200000 / 200000 loss 2.0226262\n"
     ]
    }
   ],
   "source": [
    "lossi = []\n",
    "ud = []\n",
    "for i in range(200001) : # of epochs\n",
    "    # taking batches \n",
    "    ix = torch.randint(0, Xtr.shape[0], (32,), generator=g)\n",
    "    \n",
    "    logits = model(Xtr[ix])\n",
    "#     print(x.shape)\n",
    "#     for layer in layers :\n",
    "#         print(f'class : {layer.__class__}', end=', ')\n",
    "#         x = layer(x) # forward pass\n",
    "#         print(f'shape : {x.shape}')\n",
    "    \n",
    "    # logits = third.softmax(dim=1)\n",
    "    # nll = -logits[torch.arange(10), Y[:10]].log().mean()\n",
    "    nll = F.cross_entropy(logits, Ytr[ix])\n",
    "    lossi.append(nll)\n",
    "    for layer in layers :\n",
    "        layer.out.retain_grad() # retains the grad to be able to plot later\n",
    "# usually non-leaf params do not have their .grad attrbutes populated, since they are almost never required\n",
    "# they just pass grads downwards\n",
    "# to be able to access these later, we need retain_grad\n",
    "    \n",
    "    lr = 0.1 if i<100000 else 0.01\n",
    "    for p in params :\n",
    "        p.grad = None\n",
    "    nll.backward()\n",
    "    for p in params :\n",
    "#         print(p.shape)\n",
    "        p.data -= lr*p.grad\n",
    "    if i%10000==0 :\n",
    "        print(f'step: {i:5d} / {200000} loss {nll:.7f}')\n",
    "    with torch.no_grad():\n",
    "        ud.append([((lr*p.grad).std() / p.data.std()).log10().item() for p in params])\n",
    "#     if i>1000 : break\n",
    "#     break"
   ]
  },
  {
   "cell_type": "code",
   "execution_count": 107,
   "id": "14444829",
   "metadata": {},
   "outputs": [
    {
     "data": {
      "text/plain": [
       "[<matplotlib.lines.Line2D at 0x15fcd7214c0>]"
      ]
     },
     "execution_count": 107,
     "metadata": {},
     "output_type": "execute_result"
    },
    {
     "data": {
      "image/png": "[encoded data removed]",
      "text/plain": [
       "<Figure size 432x288 with 1 Axes>"
      ]
     },
     "metadata": {
      "needs_background": "light"
     },
     "output_type": "display_data"
    }
   ],
   "source": [
    "temp = torch.tensor([x.detach().item() for x in lossi])\n",
    "plt.plot(temp[:-1].view(-1,1000).mean(1))"
   ]
  },
  {
   "cell_type": "code",
   "execution_count": 108,
   "id": "5d34f39d",
   "metadata": {},
   "outputs": [
    {
     "name": "stdout",
     "output_type": "stream",
     "text": [
      "Train : 1.9313099384307861\n",
      "Test : 2.021084785461426\n"
     ]
    }
   ],
   "source": [
    "# Final train and test losses\n",
    "for layer in model.layers :\n",
    "    if isinstance(layer, BatchNorm1d) :\n",
    "        layer.training = False\n",
    "for p in model.parameters() :\n",
    "    p.requires_grad = False\n",
    "        \n",
    "logits = model(Xtr)\n",
    "nll = F.cross_entropy(logits, Ytr)\n",
    "print(f'Train : {nll}')\n",
    "\n",
    "logits = model(Xtest)\n",
    "nll = F.cross_entropy(logits, Ytest)\n",
    "print(f'Test : {nll}')"
   ]
  },
  {
   "cell_type": "code",
   "execution_count": 111,
   "id": "60a3175f",
   "metadata": {},
   "outputs": [
    {
     "name": "stdout",
     "output_type": "stream",
     "text": [
      "suli\n",
      "tazion\n",
      "sandida\n",
      "marbellah\n",
      "adyron\n",
      "dariyah\n",
      "garlyn\n",
      "amaysra\n",
      "abidlea\n",
      "isyla\n"
     ]
    }
   ],
   "source": [
    "# inference\n",
    "\n",
    "for p in model.parameters() :\n",
    "    p.requires_grad = False\n",
    "for layer in model.layers :\n",
    "    if isinstance(layer, BatchNorm1d) :\n",
    "        layer.training = False\n",
    "for _ in range(10) :\n",
    "    context = [0]*block_size\n",
    "    while True :\n",
    "        logits = model(torch.tensor(context).view(1,-1))\n",
    "        probs = logits.softmax(dim=1)\n",
    "        ix = torch.multinomial(probs, num_samples=1, replacement=True).item()\n",
    "        if ix==0 : break\n",
    "        print(itos[ix], end='')\n",
    "        context = context[1:] + [ix]\n",
    "    print()"
   ]
  },
  {
   "cell_type": "code",
   "execution_count": 110,
   "id": "0560859a",
   "metadata": {},
   "outputs": [],
   "source": [
    "# the losses can be beaten by appropriate hyperparameter tuning\n",
    "# The archotecture follows Wavenet\n",
    "# https://arxiv.org/abs/1609.03499"
   ]
  },
  {
   "cell_type": "code",
   "execution_count": null,
   "id": "18ab771a",
   "metadata": {},
   "outputs": [],
   "source": []
  }
 ],
 "metadata": {
  "kernelspec": {
   "display_name": "Python 3",
   "language": "python",
   "name": "python3"
  },
  "language_info": {
   "codemirror_mode": {
    "name": "ipython",
    "version": 3
   },
   "file_extension": ".py",
   "mimetype": "text/x-python",
   "name": "python",
   "nbconvert_exporter": "python",
   "pygments_lexer": "ipython3",
   "version": "3.8.8"
  }
 },
 "nbformat": 4,
 "nbformat_minor": 5
}
