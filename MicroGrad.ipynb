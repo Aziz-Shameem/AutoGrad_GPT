{
 "cells": [
  {
   "cell_type": "code",
   "execution_count": 1,
   "id": "ea487f0e",
   "metadata": {},
   "outputs": [],
   "source": [
    "import math\n",
    "import numpy as np\n",
    "import random\n",
    "import torch\n",
    "import matplotlib.pyplot as plt\n",
    "from sklearn.datasets import make_moons, make_blobs\n",
    "\n",
    "import os"
   ]
  },
  {
   "cell_type": "code",
   "execution_count": 4,
   "id": "0ba5b38d",
   "metadata": {},
   "outputs": [],
   "source": [
    "# to get the node graph running\n",
    "os.environ[\"PATH\"] += os.pathsep + 'C:/Graphviz/bin/'"
   ]
  },
  {
   "cell_type": "code",
   "execution_count": 5,
   "id": "b6bcc47a",
   "metadata": {},
   "outputs": [
    {
     "ename": "ModuleNotFoundError",
     "evalue": "No module named 'graphviz'",
     "output_type": "error",
     "traceback": [
      "\u001b[1;31m---------------------------------------------------------------------------\u001b[0m",
      "\u001b[1;31mModuleNotFoundError\u001b[0m                       Traceback (most recent call last)",
      "Cell \u001b[1;32mIn[5], line 1\u001b[0m\n\u001b[1;32m----> 1\u001b[0m \u001b[38;5;28;01mfrom\u001b[39;00m \u001b[38;5;21;01mgraphviz\u001b[39;00m \u001b[38;5;28;01mimport\u001b[39;00m Digraph\n\u001b[0;32m      3\u001b[0m \u001b[38;5;28;01mdef\u001b[39;00m \u001b[38;5;21mtrace\u001b[39m(root):\n\u001b[0;32m      4\u001b[0m     \u001b[38;5;66;03m# builds a set of all nodes and edges in a graph\u001b[39;00m\n\u001b[0;32m      5\u001b[0m     nodes, edges \u001b[38;5;241m=\u001b[39m \u001b[38;5;28mset\u001b[39m(), \u001b[38;5;28mset\u001b[39m()\n",
      "\u001b[1;31mModuleNotFoundError\u001b[0m: No module named 'graphviz'"
     ]
    }
   ],
   "source": [
    "from graphviz import Digraph\n",
    "\n",
    "def trace(root):\n",
    "    # builds a set of all nodes and edges in a graph\n",
    "    nodes, edges = set(), set()\n",
    "    def build(v):\n",
    "        if v not in nodes:\n",
    "            nodes.add(v)\n",
    "        for child in v._prev:\n",
    "            edges.add((child, v))\n",
    "            build(child)\n",
    "    build(root)\n",
    "    return nodes, edges\n",
    "\n",
    "def draw_dot(root):\n",
    "    dot = Digraph(format='svg', graph_attr={'rankdir': 'LR'}) # LR = left to right\n",
    "  \n",
    "    nodes, edges = trace(root)\n",
    "    for n in nodes:\n",
    "        uid = str(id(n))\n",
    "        # for any value in the graph, create a rectangular ('record') node for it\n",
    "        dot.node(name = uid, label = \"{ %s | data %.4f | grad %.4f}\" % (n.label, n.data, n.grad), shape='record')\n",
    "        if n._op:\n",
    "          # if this value is a result of some operation, create an op node for it\n",
    "          dot.node(name = uid + n._op, label = n._op)\n",
    "          # and connect this node to it\n",
    "          dot.edge(uid + n._op, uid)\n",
    "\n",
    "    for n1, n2 in edges:\n",
    "        # connect n1 to the op node of n2\n",
    "        dot.edge(str(id(n1)), str(id(n2)) + n2._op)\n",
    "\n",
    "    return dot"
   ]
  },
  {
   "cell_type": "code",
   "execution_count": 6,
   "id": "3b6a63cb",
   "metadata": {},
   "outputs": [],
   "source": [
    "class Value() :\n",
    "    def __init__(self, data=0, _children=(), _op='', label='') :\n",
    "        self.data = data\n",
    "        self.grad = 0 # stores the grad wrt output\n",
    "        self._backward = lambda: None # stored the backward pass function\n",
    "        self._prev = set(_children) # stores the children of the variable, to get the DAG\n",
    "        self._op = _op # stores the operation from which this resulted\n",
    "        self.label = label\n",
    "    def __repr__(self) :\n",
    "        return f'Value(data={self.data}) Label={self.label}' if self.label else f'Value(data={self.data})'\n",
    "    def __neg__(self) :\n",
    "        return -1*self\n",
    "    def __add__(self, other) :\n",
    "        other = other if isinstance(other, Value) else Value(other)\n",
    "        out = Value(self.data + other.data, (self, other), '+')\n",
    "        def _backward() :\n",
    "            self.grad += out.grad\n",
    "            other.grad += out.grad\n",
    "        out._backward = _backward\n",
    "        return out\n",
    "    def __radd__(self, other) : # if other+self does not work\n",
    "        return self + other\n",
    "    def __sub__(self, other) :\n",
    "        return self + (-1*other)\n",
    "    def __rsub__(self, other) :\n",
    "        return -self + other\n",
    "    def __mul__(self, other) :\n",
    "        other = other if isinstance(other, Value) else Value(other)\n",
    "        out = Value(self.data * other.data, (self, other), '*')\n",
    "        def _backward() :\n",
    "            self.grad += out.grad * other.data\n",
    "            other.grad += out.grad * self.data\n",
    "        out._backward = _backward\n",
    "        return out\n",
    "    def __rmul__(self, other) : # interchanging order of operands if not evaluable\n",
    "        return self * other\n",
    "    def __truediv__(self, other) :\n",
    "        return self * other**-1\n",
    "    def __rtruediv__(self, other) :\n",
    "        return other * self**-1\n",
    "    def __pow__(self, other) :\n",
    "        assert isinstance(other, (int, float)) \n",
    "        val = self.data ** other\n",
    "        out = Value(val, (self,), f'**{other}')\n",
    "        def _backward() :\n",
    "            self.grad += out.grad * other * (self.data ** (other-1)) # does not work if other==0,1\n",
    "        out._backward = _backward\n",
    "        return out\n",
    "    def exp(self) :\n",
    "        x = self.data\n",
    "        val = math.exp(x)\n",
    "        out = Value(val, (self,), 'exp')\n",
    "        def _backward() :\n",
    "            self.grad += val * out.grad\n",
    "        out._backward = _backward\n",
    "        return out\n",
    "    def relu(self) :\n",
    "        x = self.data\n",
    "        t = x*int(x>0)\n",
    "        out = Value(t, (self,), 'relu')\n",
    "        def _backward() :\n",
    "            self.grad += out.grad * int(t>0)\n",
    "        out._backward = _backward\n",
    "        return out\n",
    "    def sigmoid(self) :\n",
    "        x = self.data\n",
    "        t = 1 / (1 + math.exp(-x))\n",
    "        out = Value(t, (self,), 'sigm')\n",
    "        def _backward() :\n",
    "            self.grad = out.grad * t * (1-t)\n",
    "        out._backward = _backward\n",
    "        return out\n",
    "    def tanh(self) :\n",
    "        x = self.data\n",
    "#         print(x)\n",
    "#         t = (math.exp(2*x) - 1)/(math.exp(2*x)+1)\n",
    "        t = math.tanh(x)\n",
    "        out = Value(t, (self,), 'tanh')\n",
    "        def _backward() :\n",
    "            self.grad += out.grad * (1 - t**2)\n",
    "        out._backward = _backward\n",
    "        return out\n",
    "    def backward(self):\n",
    "\n",
    "        # topological order all of the children in the graph\n",
    "        topo = []\n",
    "        visited = set()\n",
    "        def build_topo(v):\n",
    "            if v not in visited:\n",
    "                visited.add(v)\n",
    "                for child in v._prev:\n",
    "                    build_topo(child)\n",
    "                topo.append(v)\n",
    "        build_topo(self)\n",
    "\n",
    "        # go one variable at a time and apply the chain rule to get its gradient\n",
    "        self.grad = 1\n",
    "        for v in reversed(topo):\n",
    "            v._backward()"
   ]
  },
  {
   "cell_type": "code",
   "execution_count": 23,
   "id": "df3004ec-990d-4bdf-bcd4-078d30a83ec0",
   "metadata": {},
   "outputs": [],
   "source": [
    "x1 = Value(2)\n",
    "x2 = Value(5)\n",
    "x3 = Value(1)\n",
    "x4 = Value(1)\n",
    "x5 = Value(0)\n",
    "w11 = Value(-2)\n",
    "w12 = Value(1)\n",
    "w21 = Value(2)\n",
    "w22 = Value(-1)\n",
    "\n",
    "z1 = w11*x1 + w12*x2\n",
    "z2 = w11*x2 + w12*x3\n",
    "z3 = w11*x3 + w12*x4\n",
    "z4 = w11*x4 + w12*x5\n",
    "\n",
    "a1 = z1.relu()\n",
    "a2 = z2.relu()\n",
    "a3 = z3.relu()\n",
    "a4 = z4.relu()\n",
    "\n",
    "b1 = a1 \n",
    "b2 = a3\n",
    "\n",
    "out = w21*b1 + w22*b2\n",
    "v = out.sigmoid()\n"
   ]
  },
  {
   "cell_type": "code",
   "execution_count": 24,
   "id": "bb76a899-4b10-43ce-b69e-7beb8b9eb7ac",
   "metadata": {},
   "outputs": [
    {
     "data": {
      "text/plain": [
       "(-0.47681168808847074, -1.1920292202211769, -0.11920292202211769, -0.0)"
      ]
     },
     "execution_count": 24,
     "metadata": {},
     "output_type": "execute_result"
    }
   ],
   "source": [
    "v.backward()\n",
    "mul = -1/v.data\n",
    "w11.grad*mul, w12.grad*mul, w21.grad*mul, w22.grad*mul"
   ]
  },
  {
   "cell_type": "code",
   "execution_count": 25,
   "id": "2d49fcf2-9f90-4f3c-846d-9b82b36ce26d",
   "metadata": {},
   "outputs": [
    {
     "data": {
      "text/plain": [
       "(0.10499358540350662, 0.10499358540350662)"
      ]
     },
     "execution_count": 25,
     "metadata": {},
     "output_type": "execute_result"
    }
   ],
   "source": [
    "out.grad, w21.grad, "
   ]
  },
  {
   "cell_type": "code",
   "execution_count": 36,
   "id": "684ff2d2",
   "metadata": {},
   "outputs": [],
   "source": [
    "# creating a NN \n",
    "class Module :\n",
    "    def zero_grad(self) :\n",
    "        for p in self.parameters() :\n",
    "            p.grad = 0\n",
    "class Neuron(Module) :\n",
    "    def __init__(self, ndim) :\n",
    "        self.w = [Value(random.uniform(-1,1)) for _ in range(ndim)] # array of weights\n",
    "        self.b = Value(random.uniform(-1,1)) # bias\n",
    "    def __call__(self, x) :\n",
    "        # wx + b\n",
    "        act = sum((wi*xi for wi,xi in zip(self.w, x)), self.b)\n",
    "        return act.tanh() # only returns tanh activation for now\n",
    "    def parameters(self) : # giving out list of all params\n",
    "        return self.w + [self.b] # array of ndim+1 weights\n",
    "class Layer(Module) :\n",
    "    def __init__(self, nin, nout) : # nout is the number of neurons in the layer\n",
    "        self.neurons = [Neuron(nin) for _ in range(nout)]\n",
    "    def __call__(self,x) :\n",
    "        return [n(x) for n in self.neurons]\n",
    "    def parameters(self) :\n",
    "        # returning each parameter for each neuron\n",
    "        return [p for neuron in self.neurons for p in neuron.parameters()]\n",
    "class MLP(Module) :\n",
    "    def __init__(self, nin, nouts) : # nouts stores the number of neurons in each layer\n",
    "        sz = [nin] + nouts\n",
    "        self.layers = [Layer(sz[i], sz[i+1]) for i in range(len(nouts))]\n",
    "    def __call__(self, x) :\n",
    "        for layer in self.layers :\n",
    "            x = layer(x)\n",
    "        return x\n",
    "    def parameters(self) :\n",
    "        return [p for layer in self.layers for p in layer.parameters()]"
   ]
  },
  {
   "cell_type": "code",
   "execution_count": 143,
   "id": "a0092c46",
   "metadata": {},
   "outputs": [],
   "source": [
    "# My additions\n",
    "# class Optimiser :\n",
    "#     def __init__(self, params, lr=0.001) :\n",
    "#         self.params = params\n",
    "#         self.optim = optim\n",
    "#         self.lr = lr\n",
    "class SGD :\n",
    "    def __init__(self, params, lr=0.001, momentum=0, weight_decay=0, dampening=0, nestrov=False) :\n",
    "        assert 0<=momentum<=1\n",
    "        self.params = params\n",
    "        self.lr = lr\n",
    "        self.momentum = momentum\n",
    "        self.wt_decay = weight_decay # adds an L2 regularisation term, with the decay parameter acting as 2*lambda\n",
    "        self.dampening = dampening # not well researched yet, supposed to help momentum\n",
    "        self.nestrov = nestrov\n",
    "        self.delta = 0\n",
    "    def step(self) :\n",
    "        for p in self.params :\n",
    "            self.gt = p.grad\n",
    "            self.gt += self.wt_decay*p.data \n",
    "            self.delta = self.momentum*self.delta + (1-self.dampening)*self.gt\n",
    "            if self.nestrov : self.gt += self.momentum*self.delta \n",
    "            else : self.gt = self.delta\n",
    "                \n",
    "            p.data -= self.lr * self.gt\n",
    "            \n"
   ]
  },
  {
   "cell_type": "code",
   "execution_count": 5,
   "id": "c7df6ca5",
   "metadata": {},
   "outputs": [],
   "source": [
    "a = Value(3, label='a')\n",
    "b = Value(-2, label='b')\n",
    "c = Value(4, label='c')\n",
    "d = a*b; d.label = 'd'\n",
    "e = d + c; e.label = 'e'\n",
    "f = Value(10, label='f')\n",
    "L = e*f; L.label = 'L'"
   ]
  },
  {
   "cell_type": "code",
   "execution_count": 6,
   "id": "9d61e8df",
   "metadata": {},
   "outputs": [],
   "source": [
    "# simulating a neuron \n",
    "x1 = Value(2, label='x1')\n",
    "x2 = Value(0, label='x1')\n",
    "\n",
    "w1 = Value(-3, label='w1')\n",
    "w2 = Value(1, label='w2')\n",
    "b = Value(6.8, label='b')\n",
    "\n",
    "x1w1 = x1*w1; x1w1.label='x1w1'\n",
    "x2w2 = x2*w2; x2w2.label='x2w2'\n",
    "\n",
    "s = x1w1+x2w2; s.label='s'\n",
    "\n",
    "n = s+b; n.label = 'n'\n",
    "\n",
    "o = n.tanh(); o.label='o'"
   ]
  },
  {
   "cell_type": "code",
   "execution_count": 11,
   "id": "ee439858",
   "metadata": {},
   "outputs": [
    {
     "data": {
      "image/svg+xml": [
       "<?xml version=\"1.0\" encoding=\"UTF-8\" standalone=\"no\"?>\n",
       "<!DOCTYPE svg PUBLIC \"-//W3C//DTD SVG 1.1//EN\"\n",
       " \"http://www.w3.org/Graphics/SVG/1.1/DTD/svg11.dtd\">\n",
       "<!-- Generated by graphviz version 8.0.5 (20230430.1635)\n",
       " -->\n",
       "<!-- Pages: 1 -->\n",
       "<svg width=\"1485pt\" height=\"210pt\"\n",
       " viewBox=\"0.00 0.00 1484.75 210.00\" xmlns=\"http://www.w3.org/2000/svg\" xmlns:xlink=\"http://www.w3.org/1999/xlink\">\n",
       "<g id=\"graph0\" class=\"graph\" transform=\"scale(1 1) rotate(0) translate(4 206)\">\n",
       "<polygon fill=\"white\" stroke=\"none\" points=\"-4,4 -4,-206 1480.75,-206 1480.75,4 -4,4\"/>\n",
       "<!-- 2150873203280 -->\n",
       "<g id=\"node1\" class=\"node\">\n",
       "<title>2150873203280</title>\n",
       "<polygon fill=\"none\" stroke=\"black\" points=\"1.5,-165.5 1.5,-201.5 198,-201.5 198,-165.5 1.5,-165.5\"/>\n",
       "<text text-anchor=\"middle\" x=\"16.25\" y=\"-178.2\" font-family=\"Times New Roman,serif\" font-size=\"14.00\">x1</text>\n",
       "<polyline fill=\"none\" stroke=\"black\" points=\"31,-165.75 31,-201.5\"/>\n",
       "<text text-anchor=\"middle\" x=\"71.25\" y=\"-178.2\" font-family=\"Times New Roman,serif\" font-size=\"14.00\">data 2.0000</text>\n",
       "<polyline fill=\"none\" stroke=\"black\" points=\"111.5,-165.75 111.5,-201.5\"/>\n",
       "<text text-anchor=\"middle\" x=\"154.75\" y=\"-178.2\" font-family=\"Times New Roman,serif\" font-size=\"14.00\">grad &#45;1.6772</text>\n",
       "</g>\n",
       "<!-- 2150873203952* -->\n",
       "<g id=\"node10\" class=\"node\">\n",
       "<title>2150873203952*</title>\n",
       "<ellipse fill=\"none\" stroke=\"black\" cx=\"262.5\" cy=\"-128.5\" rx=\"27\" ry=\"18\"/>\n",
       "<text text-anchor=\"middle\" x=\"262.5\" y=\"-123.08\" font-family=\"Times New Roman,serif\" font-size=\"14.00\">*</text>\n",
       "</g>\n",
       "<!-- 2150873203280&#45;&gt;2150873203952* -->\n",
       "<g id=\"edge7\" class=\"edge\">\n",
       "<title>2150873203280&#45;&gt;2150873203952*</title>\n",
       "<path fill=\"none\" stroke=\"black\" d=\"M171.84,-165.51C181.21,-162.72 190.64,-159.69 199.5,-156.5 209.81,-152.79 220.79,-148.09 230.6,-143.61\"/>\n",
       "<polygon fill=\"black\" stroke=\"black\" points=\"231.74,-146.47 239.32,-139.06 228.78,-140.13 231.74,-146.47\"/>\n",
       "</g>\n",
       "<!-- 2150873101408 -->\n",
       "<g id=\"node2\" class=\"node\">\n",
       "<title>2150873101408</title>\n",
       "<polygon fill=\"none\" stroke=\"black\" points=\"1290.75,-54.5 1290.75,-90.5 1476.75,-90.5 1476.75,-54.5 1290.75,-54.5\"/>\n",
       "<text text-anchor=\"middle\" x=\"1302.5\" y=\"-67.2\" font-family=\"Times New Roman,serif\" font-size=\"14.00\">o</text>\n",
       "<polyline fill=\"none\" stroke=\"black\" points=\"1314.25,-54.75 1314.25,-90.5\"/>\n",
       "<text text-anchor=\"middle\" x=\"1354.5\" y=\"-67.2\" font-family=\"Times New Roman,serif\" font-size=\"14.00\">data 0.6640</text>\n",
       "<polyline fill=\"none\" stroke=\"black\" points=\"1394.75,-54.75 1394.75,-90.5\"/>\n",
       "<text text-anchor=\"middle\" x=\"1435.75\" y=\"-67.2\" font-family=\"Times New Roman,serif\" font-size=\"14.00\">grad 1.0000</text>\n",
       "</g>\n",
       "<!-- 2150873101408tanh -->\n",
       "<g id=\"node3\" class=\"node\">\n",
       "<title>2150873101408tanh</title>\n",
       "<ellipse fill=\"none\" stroke=\"black\" cx=\"1227.75\" cy=\"-72.5\" rx=\"27\" ry=\"18\"/>\n",
       "<text text-anchor=\"middle\" x=\"1227.75\" y=\"-67.08\" font-family=\"Times New Roman,serif\" font-size=\"14.00\">tanh</text>\n",
       "</g>\n",
       "<!-- 2150873101408tanh&#45;&gt;2150873101408 -->\n",
       "<g id=\"edge1\" class=\"edge\">\n",
       "<title>2150873101408tanh&#45;&gt;2150873101408</title>\n",
       "<path fill=\"none\" stroke=\"black\" d=\"M1255.22,-72.5C1262.58,-72.5 1271.04,-72.5 1280.02,-72.5\"/>\n",
       "<polygon fill=\"black\" stroke=\"black\" points=\"1279.78,-76 1289.78,-72.5 1279.78,-69 1279.78,-76\"/>\n",
       "</g>\n",
       "<!-- 2150873206400 -->\n",
       "<g id=\"node4\" class=\"node\">\n",
       "<title>2150873206400</title>\n",
       "<polygon fill=\"none\" stroke=\"black\" points=\"0,-110.5 0,-146.5 199.5,-146.5 199.5,-110.5 0,-110.5\"/>\n",
       "<text text-anchor=\"middle\" x=\"16.25\" y=\"-123.2\" font-family=\"Times New Roman,serif\" font-size=\"14.00\">w1</text>\n",
       "<polyline fill=\"none\" stroke=\"black\" points=\"32.5,-110.75 32.5,-146.5\"/>\n",
       "<text text-anchor=\"middle\" x=\"75\" y=\"-123.2\" font-family=\"Times New Roman,serif\" font-size=\"14.00\">data &#45;3.0000</text>\n",
       "<polyline fill=\"none\" stroke=\"black\" points=\"117.5,-110.75 117.5,-146.5\"/>\n",
       "<text text-anchor=\"middle\" x=\"158.5\" y=\"-123.2\" font-family=\"Times New Roman,serif\" font-size=\"14.00\">grad 1.1181</text>\n",
       "</g>\n",
       "<!-- 2150873206400&#45;&gt;2150873203952* -->\n",
       "<g id=\"edge10\" class=\"edge\">\n",
       "<title>2150873206400&#45;&gt;2150873203952*</title>\n",
       "<path fill=\"none\" stroke=\"black\" d=\"M199.35,-128.5C208.17,-128.5 216.68,-128.5 224.43,-128.5\"/>\n",
       "<polygon fill=\"black\" stroke=\"black\" points=\"224.18,-132 234.18,-128.5 224.18,-125 224.18,-132\"/>\n",
       "</g>\n",
       "<!-- 2150873203856 -->\n",
       "<g id=\"node5\" class=\"node\">\n",
       "<title>2150873203856</title>\n",
       "<polygon fill=\"none\" stroke=\"black\" points=\"3.75,-55.5 3.75,-91.5 195.75,-91.5 195.75,-55.5 3.75,-55.5\"/>\n",
       "<text text-anchor=\"middle\" x=\"18.5\" y=\"-68.2\" font-family=\"Times New Roman,serif\" font-size=\"14.00\">x1</text>\n",
       "<polyline fill=\"none\" stroke=\"black\" points=\"33.25,-55.75 33.25,-91.5\"/>\n",
       "<text text-anchor=\"middle\" x=\"73.5\" y=\"-68.2\" font-family=\"Times New Roman,serif\" font-size=\"14.00\">data 0.0000</text>\n",
       "<polyline fill=\"none\" stroke=\"black\" points=\"113.75,-55.75 113.75,-91.5\"/>\n",
       "<text text-anchor=\"middle\" x=\"154.75\" y=\"-68.2\" font-family=\"Times New Roman,serif\" font-size=\"14.00\">grad 0.5591</text>\n",
       "</g>\n",
       "<!-- 2150873204384* -->\n",
       "<g id=\"node7\" class=\"node\">\n",
       "<title>2150873204384*</title>\n",
       "<ellipse fill=\"none\" stroke=\"black\" cx=\"262.5\" cy=\"-73.5\" rx=\"27\" ry=\"18\"/>\n",
       "<text text-anchor=\"middle\" x=\"262.5\" y=\"-68.08\" font-family=\"Times New Roman,serif\" font-size=\"14.00\">*</text>\n",
       "</g>\n",
       "<!-- 2150873203856&#45;&gt;2150873204384* -->\n",
       "<g id=\"edge14\" class=\"edge\">\n",
       "<title>2150873203856&#45;&gt;2150873204384*</title>\n",
       "<path fill=\"none\" stroke=\"black\" d=\"M195.65,-73.5C205.67,-73.5 215.38,-73.5 224.13,-73.5\"/>\n",
       "<polygon fill=\"black\" stroke=\"black\" points=\"224.01,-77 234.01,-73.5 224.01,-70 224.01,-77\"/>\n",
       "</g>\n",
       "<!-- 2150873204384 -->\n",
       "<g id=\"node6\" class=\"node\">\n",
       "<title>2150873204384</title>\n",
       "<polygon fill=\"none\" stroke=\"black\" points=\"327.75,-55.5 327.75,-91.5 536.25,-91.5 536.25,-55.5 327.75,-55.5\"/>\n",
       "<text text-anchor=\"middle\" x=\"350.75\" y=\"-68.2\" font-family=\"Times New Roman,serif\" font-size=\"14.00\">x2w2</text>\n",
       "<polyline fill=\"none\" stroke=\"black\" points=\"373.75,-55.75 373.75,-91.5\"/>\n",
       "<text text-anchor=\"middle\" x=\"414\" y=\"-68.2\" font-family=\"Times New Roman,serif\" font-size=\"14.00\">data 0.0000</text>\n",
       "<polyline fill=\"none\" stroke=\"black\" points=\"454.25,-55.75 454.25,-91.5\"/>\n",
       "<text text-anchor=\"middle\" x=\"495.25\" y=\"-68.2\" font-family=\"Times New Roman,serif\" font-size=\"14.00\">grad 0.5591</text>\n",
       "</g>\n",
       "<!-- 2150873205632+ -->\n",
       "<g id=\"node13\" class=\"node\">\n",
       "<title>2150873205632+</title>\n",
       "<ellipse fill=\"none\" stroke=\"black\" cx=\"601.5\" cy=\"-100.5\" rx=\"27\" ry=\"18\"/>\n",
       "<text text-anchor=\"middle\" x=\"601.5\" y=\"-95.08\" font-family=\"Times New Roman,serif\" font-size=\"14.00\">+</text>\n",
       "</g>\n",
       "<!-- 2150873204384&#45;&gt;2150873205632+ -->\n",
       "<g id=\"edge11\" class=\"edge\">\n",
       "<title>2150873204384&#45;&gt;2150873205632+</title>\n",
       "<path fill=\"none\" stroke=\"black\" d=\"M536.22,-90.14C546.14,-91.74 555.68,-93.28 564.23,-94.65\"/>\n",
       "<polygon fill=\"black\" stroke=\"black\" points=\"563.43,-98.23 573.86,-96.37 564.54,-91.32 563.43,-98.23\"/>\n",
       "</g>\n",
       "<!-- 2150873204384*&#45;&gt;2150873204384 -->\n",
       "<g id=\"edge2\" class=\"edge\">\n",
       "<title>2150873204384*&#45;&gt;2150873204384</title>\n",
       "<path fill=\"none\" stroke=\"black\" d=\"M289.67,-73.5C297.73,-73.5 307.17,-73.5 317.27,-73.5\"/>\n",
       "<polygon fill=\"black\" stroke=\"black\" points=\"317.02,-77 327.02,-73.5 317.02,-70 317.02,-77\"/>\n",
       "</g>\n",
       "<!-- 2150873203424 -->\n",
       "<g id=\"node8\" class=\"node\">\n",
       "<title>2150873203424</title>\n",
       "<polygon fill=\"none\" stroke=\"black\" points=\"666,-27.5 666,-63.5 852,-63.5 852,-27.5 666,-27.5\"/>\n",
       "<text text-anchor=\"middle\" x=\"677.75\" y=\"-40.2\" font-family=\"Times New Roman,serif\" font-size=\"14.00\">b</text>\n",
       "<polyline fill=\"none\" stroke=\"black\" points=\"689.5,-27.75 689.5,-63.5\"/>\n",
       "<text text-anchor=\"middle\" x=\"729.75\" y=\"-40.2\" font-family=\"Times New Roman,serif\" font-size=\"14.00\">data 6.8000</text>\n",
       "<polyline fill=\"none\" stroke=\"black\" points=\"770,-27.75 770,-63.5\"/>\n",
       "<text text-anchor=\"middle\" x=\"811\" y=\"-40.2\" font-family=\"Times New Roman,serif\" font-size=\"14.00\">grad 0.5591</text>\n",
       "</g>\n",
       "<!-- 2150873205200+ -->\n",
       "<g id=\"node15\" class=\"node\">\n",
       "<title>2150873205200+</title>\n",
       "<ellipse fill=\"none\" stroke=\"black\" cx=\"916.5\" cy=\"-72.5\" rx=\"27\" ry=\"18\"/>\n",
       "<text text-anchor=\"middle\" x=\"916.5\" y=\"-67.08\" font-family=\"Times New Roman,serif\" font-size=\"14.00\">+</text>\n",
       "</g>\n",
       "<!-- 2150873203424&#45;&gt;2150873205200+ -->\n",
       "<g id=\"edge8\" class=\"edge\">\n",
       "<title>2150873203424&#45;&gt;2150873205200+</title>\n",
       "<path fill=\"none\" stroke=\"black\" d=\"M851.8,-61.44C861.39,-63.1 870.68,-64.72 879.06,-66.17\"/>\n",
       "<polygon fill=\"black\" stroke=\"black\" points=\"878.43,-69.79 888.88,-68.05 879.63,-62.89 878.43,-69.79\"/>\n",
       "</g>\n",
       "<!-- 2150873203952 -->\n",
       "<g id=\"node9\" class=\"node\">\n",
       "<title>2150873203952</title>\n",
       "<polygon fill=\"none\" stroke=\"black\" points=\"325.5,-110.5 325.5,-146.5 538.5,-146.5 538.5,-110.5 325.5,-110.5\"/>\n",
       "<text text-anchor=\"middle\" x=\"348.5\" y=\"-123.2\" font-family=\"Times New Roman,serif\" font-size=\"14.00\">x1w1</text>\n",
       "<polyline fill=\"none\" stroke=\"black\" points=\"371.5,-110.75 371.5,-146.5\"/>\n",
       "<text text-anchor=\"middle\" x=\"414\" y=\"-123.2\" font-family=\"Times New Roman,serif\" font-size=\"14.00\">data &#45;6.0000</text>\n",
       "<polyline fill=\"none\" stroke=\"black\" points=\"456.5,-110.75 456.5,-146.5\"/>\n",
       "<text text-anchor=\"middle\" x=\"497.5\" y=\"-123.2\" font-family=\"Times New Roman,serif\" font-size=\"14.00\">grad 0.5591</text>\n",
       "</g>\n",
       "<!-- 2150873203952&#45;&gt;2150873205632+ -->\n",
       "<g id=\"edge9\" class=\"edge\">\n",
       "<title>2150873203952&#45;&gt;2150873205632+</title>\n",
       "<path fill=\"none\" stroke=\"black\" d=\"M538.13,-110.93C547.33,-109.39 556.17,-107.91 564.14,-106.58\"/>\n",
       "<polygon fill=\"black\" stroke=\"black\" points=\"564.52,-109.9 573.8,-104.8 563.36,-102.99 564.52,-109.9\"/>\n",
       "</g>\n",
       "<!-- 2150873203952*&#45;&gt;2150873203952 -->\n",
       "<g id=\"edge3\" class=\"edge\">\n",
       "<title>2150873203952*&#45;&gt;2150873203952</title>\n",
       "<path fill=\"none\" stroke=\"black\" d=\"M289.67,-128.5C297.01,-128.5 305.5,-128.5 314.59,-128.5\"/>\n",
       "<polygon fill=\"black\" stroke=\"black\" points=\"314.51,-132 324.51,-128.5 314.51,-125 314.51,-132\"/>\n",
       "</g>\n",
       "<!-- 2150873204000 -->\n",
       "<g id=\"node11\" class=\"node\">\n",
       "<title>2150873204000</title>\n",
       "<polygon fill=\"none\" stroke=\"black\" points=\"2.25,-0.5 2.25,-36.5 197.25,-36.5 197.25,-0.5 2.25,-0.5\"/>\n",
       "<text text-anchor=\"middle\" x=\"18.5\" y=\"-13.2\" font-family=\"Times New Roman,serif\" font-size=\"14.00\">w2</text>\n",
       "<polyline fill=\"none\" stroke=\"black\" points=\"34.75,-0.75 34.75,-36.5\"/>\n",
       "<text text-anchor=\"middle\" x=\"75\" y=\"-13.2\" font-family=\"Times New Roman,serif\" font-size=\"14.00\">data 1.0000</text>\n",
       "<polyline fill=\"none\" stroke=\"black\" points=\"115.25,-0.75 115.25,-36.5\"/>\n",
       "<text text-anchor=\"middle\" x=\"156.25\" y=\"-13.2\" font-family=\"Times New Roman,serif\" font-size=\"14.00\">grad 0.0000</text>\n",
       "</g>\n",
       "<!-- 2150873204000&#45;&gt;2150873204384* -->\n",
       "<g id=\"edge12\" class=\"edge\">\n",
       "<title>2150873204000&#45;&gt;2150873204384*</title>\n",
       "<path fill=\"none\" stroke=\"black\" d=\"M168.6,-36.43C179.02,-39.56 189.6,-42.96 199.5,-46.5 209.57,-50.1 220.32,-54.56 229.99,-58.8\"/>\n",
       "<polygon fill=\"black\" stroke=\"black\" points=\"228.42,-62.38 238.98,-63.28 231.29,-56 228.42,-62.38\"/>\n",
       "</g>\n",
       "<!-- 2150873205632 -->\n",
       "<g id=\"node12\" class=\"node\">\n",
       "<title>2150873205632</title>\n",
       "<polygon fill=\"none\" stroke=\"black\" points=\"664.5,-82.5 664.5,-118.5 853.5,-118.5 853.5,-82.5 664.5,-82.5\"/>\n",
       "<text text-anchor=\"middle\" x=\"675.5\" y=\"-95.2\" font-family=\"Times New Roman,serif\" font-size=\"14.00\">s</text>\n",
       "<polyline fill=\"none\" stroke=\"black\" points=\"686.5,-82.75 686.5,-118.5\"/>\n",
       "<text text-anchor=\"middle\" x=\"729\" y=\"-95.2\" font-family=\"Times New Roman,serif\" font-size=\"14.00\">data &#45;6.0000</text>\n",
       "<polyline fill=\"none\" stroke=\"black\" points=\"771.5,-82.75 771.5,-118.5\"/>\n",
       "<text text-anchor=\"middle\" x=\"812.5\" y=\"-95.2\" font-family=\"Times New Roman,serif\" font-size=\"14.00\">grad 0.5591</text>\n",
       "</g>\n",
       "<!-- 2150873205632&#45;&gt;2150873205200+ -->\n",
       "<g id=\"edge6\" class=\"edge\">\n",
       "<title>2150873205632&#45;&gt;2150873205200+</title>\n",
       "<path fill=\"none\" stroke=\"black\" d=\"M853.15,-83.73C862.29,-82.08 871.14,-80.49 879.16,-79.04\"/>\n",
       "<polygon fill=\"black\" stroke=\"black\" points=\"879.67,-82.33 888.89,-77.11 878.43,-75.44 879.67,-82.33\"/>\n",
       "</g>\n",
       "<!-- 2150873205632+&#45;&gt;2150873205632 -->\n",
       "<g id=\"edge4\" class=\"edge\">\n",
       "<title>2150873205632+&#45;&gt;2150873205632</title>\n",
       "<path fill=\"none\" stroke=\"black\" d=\"M628.88,-100.5C636.29,-100.5 644.83,-100.5 653.91,-100.5\"/>\n",
       "<polygon fill=\"black\" stroke=\"black\" points=\"653.79,-104 663.79,-100.5 653.79,-97 653.79,-104\"/>\n",
       "</g>\n",
       "<!-- 2150873205200 -->\n",
       "<g id=\"node14\" class=\"node\">\n",
       "<title>2150873205200</title>\n",
       "<polygon fill=\"none\" stroke=\"black\" points=\"979.5,-54.5 979.5,-90.5 1164.75,-90.5 1164.75,-54.5 979.5,-54.5\"/>\n",
       "<text text-anchor=\"middle\" x=\"990.88\" y=\"-67.2\" font-family=\"Times New Roman,serif\" font-size=\"14.00\">n</text>\n",
       "<polyline fill=\"none\" stroke=\"black\" points=\"1002.25,-54.75 1002.25,-90.5\"/>\n",
       "<text text-anchor=\"middle\" x=\"1042.5\" y=\"-67.2\" font-family=\"Times New Roman,serif\" font-size=\"14.00\">data 0.8000</text>\n",
       "<polyline fill=\"none\" stroke=\"black\" points=\"1082.75,-54.75 1082.75,-90.5\"/>\n",
       "<text text-anchor=\"middle\" x=\"1123.75\" y=\"-67.2\" font-family=\"Times New Roman,serif\" font-size=\"14.00\">grad 0.5591</text>\n",
       "</g>\n",
       "<!-- 2150873205200&#45;&gt;2150873101408tanh -->\n",
       "<g id=\"edge13\" class=\"edge\">\n",
       "<title>2150873205200&#45;&gt;2150873101408tanh</title>\n",
       "<path fill=\"none\" stroke=\"black\" d=\"M1164.71,-72.5C1173.33,-72.5 1181.69,-72.5 1189.34,-72.5\"/>\n",
       "<polygon fill=\"black\" stroke=\"black\" points=\"1189.33,-76 1199.33,-72.5 1189.33,-69 1189.33,-76\"/>\n",
       "</g>\n",
       "<!-- 2150873205200+&#45;&gt;2150873205200 -->\n",
       "<g id=\"edge5\" class=\"edge\">\n",
       "<title>2150873205200+&#45;&gt;2150873205200</title>\n",
       "<path fill=\"none\" stroke=\"black\" d=\"M943.91,-72.5C951.31,-72.5 959.82,-72.5 968.87,-72.5\"/>\n",
       "<polygon fill=\"black\" stroke=\"black\" points=\"968.7,-76 978.7,-72.5 968.7,-69 968.7,-76\"/>\n",
       "</g>\n",
       "</g>\n",
       "</svg>\n"
      ],
      "text/plain": [
       "<graphviz.graphs.Digraph at 0x1f4819b7a00>"
      ]
     },
     "execution_count": 11,
     "metadata": {},
     "output_type": "execute_result"
    }
   ],
   "source": [
    "draw_dot(o)"
   ]
  },
  {
   "cell_type": "code",
   "execution_count": 10,
   "id": "31cf7ad0",
   "metadata": {},
   "outputs": [],
   "source": [
    "o.backward()"
   ]
  },
  {
   "cell_type": "code",
   "execution_count": 12,
   "id": "1f281036",
   "metadata": {},
   "outputs": [],
   "source": [
    "# testing the MLP \n",
    "xs = [\n",
    "    [2,3,-1],\n",
    "    [3,-1,0.5],\n",
    "    [0.5,1,1],\n",
    "    [1,1,-1]\n",
    "]\n",
    "ys = [1,-1,-1,1]\n",
    "losslog = []\n",
    "a = MLP(3, [4,4,1])\n",
    "for step in range(100) : # 100 epochs\n",
    "    # forward pass\n",
    "    ypred = [a(x)[0] for x in xs]\n",
    "    loss = sum((ypred-ytrue)**2 for ytrue, ypred in zip(ys, ypred))\n",
    "    losslog.append(loss)\n",
    "    \n",
    "    # backward pass\n",
    "#     for w in a.parameters() :\n",
    "#         w.grad = 0\n",
    "    a.zero_grad() # taken from Module class\n",
    "    loss.backward()\n",
    "    \n",
    "    # update \n",
    "    for w in a.parameters() :\n",
    "        w.data -= 0.005 * w.grad"
   ]
  },
  {
   "cell_type": "code",
   "execution_count": 13,
   "id": "ab653c5f",
   "metadata": {},
   "outputs": [
    {
     "data": {
      "text/plain": [
       "[<matplotlib.lines.Line2D at 0x1f4835c7fa0>]"
      ]
     },
     "execution_count": 13,
     "metadata": {},
     "output_type": "execute_result"
    },
    {
     "data": {
      "image/png": "[encoded data removed]",
      "text/plain": [
       "<Figure size 432x288 with 1 Axes>"
      ]
     },
     "metadata": {
      "needs_background": "light"
     },
     "output_type": "display_data"
    }
   ],
   "source": [
    "plt.plot([x.data for x in losslog])"
   ]
  },
  {
   "cell_type": "code",
   "execution_count": 14,
   "id": "c0df5cb2",
   "metadata": {},
   "outputs": [
    {
     "data": {
      "text/plain": [
       "[Value(data=0.9030159619373817),\n",
       " Value(data=-0.8895100923147858),\n",
       " Value(data=-0.8234972662275828),\n",
       " Value(data=0.7979506397165885)]"
      ]
     },
     "execution_count": 14,
     "metadata": {},
     "output_type": "execute_result"
    }
   ],
   "source": [
    "[a(x)[0] for x in xs]"
   ]
  },
  {
   "cell_type": "code",
   "execution_count": 15,
   "id": "d1237268",
   "metadata": {},
   "outputs": [
    {
     "data": {
      "text/plain": [
       "<matplotlib.collections.PathCollection at 0x1f4856ec850>"
      ]
     },
     "execution_count": 15,
     "metadata": {},
     "output_type": "execute_result"
    },
    {
     "data": {
      "image/png": "[encoded data removed]",
      "text/plain": [
       "<Figure size 360x360 with 1 Axes>"
      ]
     },
     "metadata": {
      "needs_background": "light"
     },
     "output_type": "display_data"
    }
   ],
   "source": [
    "# testing the MLP class on a more complex example\n",
    "X, y = make_moons(n_samples=100, noise=0.1)\n",
    "\n",
    "y = y*2 - 1 # make y be -1 or 1\n",
    "# # visualize in 2D\n",
    "plt.figure(figsize=(5,5))\n",
    "plt.scatter(X[:,0], X[:,1], c=y, s=20, cmap='jet')"
   ]
  },
  {
   "cell_type": "code",
   "execution_count": 16,
   "id": "a373e382",
   "metadata": {},
   "outputs": [
    {
     "name": "stdout",
     "output_type": "stream",
     "text": [
      "<__main__.MLP object at 0x000001F485730790>\n",
      "number of parameters 337\n"
     ]
    }
   ],
   "source": [
    "model = MLP(2, [16, 16, 1]) # 2-layer neural network\n",
    "# num_params = (2*16 + 16) + (16*16 + 16) + (16*1 + 1)\n",
    "print(model)\n",
    "print(\"number of parameters\", len(model.parameters()))"
   ]
  },
  {
   "cell_type": "code",
   "execution_count": 17,
   "id": "7a056d82",
   "metadata": {},
   "outputs": [
    {
     "name": "stdout",
     "output_type": "stream",
     "text": [
      "Value(data=1.0168111425851873) 0.5\n"
     ]
    }
   ],
   "source": [
    "# loss function\n",
    "def loss(batch_size=None):\n",
    "    \n",
    "    # inline DataLoader :)\n",
    "    if batch_size is None:\n",
    "        Xb, yb = X, y\n",
    "    else:\n",
    "        ri = np.random.permutation(X.shape[0])[:batch_size]\n",
    "        Xb, yb = X[ri], y[ri] # batched input\n",
    "    inputs = [list(map(Value, xrow)) for xrow in Xb] # = [Value(xrow) for xrow in xb] where xrow is a list\n",
    "    \n",
    "    # forward the model to get scores\n",
    "    scores = list(map(model, inputs)) # = [model(input) for input in inputs]\n",
    "    # svm \"max-margin\" loss\n",
    "    losses = [(1 - yi*scorei[0]).relu() for yi, scorei in zip(yb, scores)] # hinge loss\n",
    "    data_loss = sum(losses) * (1.0 / len(losses))\n",
    "    # L2 regularization\n",
    "    alpha = 1e-4\n",
    "    reg_loss = alpha * sum((p*p for p in model.parameters()))\n",
    "    total_loss = data_loss + reg_loss\n",
    "    \n",
    "    # also get accuracy\n",
    "    accuracy = [(yi > 0) == (scorei[0].data > 0) for yi, scorei in zip(yb, scores)] # array of 1s and 0s\n",
    "    return total_loss, sum(accuracy) / len(accuracy)\n",
    "\n",
    "total_loss, acc = loss()\n",
    "print(total_loss, acc)"
   ]
  },
  {
   "cell_type": "code",
   "execution_count": 18,
   "id": "b5ec5b29",
   "metadata": {},
   "outputs": [
    {
     "name": "stdout",
     "output_type": "stream",
     "text": [
      "step 0 loss 1.0168111425851873, accuracy 50.0%\n",
      "step 1 loss 1.012417948718542, accuracy 50.0%\n",
      "step 2 loss 1.0100755027470663, accuracy 50.0%\n",
      "step 3 loss 1.0060640736407933, accuracy 50.0%\n",
      "step 4 loss 0.9913588085607327, accuracy 50.0%\n",
      "step 5 loss 0.8293113972479741, accuracy 56.99999999999999%\n",
      "step 6 loss 0.4934807749171818, accuracy 75.0%\n",
      "step 7 loss 0.343836527252103, accuracy 85.0%\n",
      "step 8 loss 0.3044462184895482, accuracy 87.0%\n",
      "step 9 loss 0.25807359325764145, accuracy 89.0%\n",
      "step 10 loss 0.23311610853615042, accuracy 90.0%\n",
      "step 11 loss 0.22308148854024792, accuracy 92.0%\n",
      "step 12 loss 0.21598316263938577, accuracy 92.0%\n",
      "step 13 loss 0.2101937189612019, accuracy 92.0%\n",
      "step 14 loss 0.20518760426577154, accuracy 92.0%\n",
      "step 15 loss 0.20069282675254652, accuracy 92.0%\n",
      "step 16 loss 0.19655528834165342, accuracy 92.0%\n",
      "step 17 loss 0.19267764821538247, accuracy 92.0%\n",
      "step 18 loss 0.18899001595559675, accuracy 93.0%\n",
      "step 19 loss 0.18543604609554426, accuracy 93.0%\n",
      "step 20 loss 0.1819650749865557, accuracy 93.0%\n",
      "step 21 loss 0.17852825468476635, accuracy 93.0%\n",
      "step 22 loss 0.17507644705959985, accuracy 93.0%\n",
      "step 23 loss 0.1715599610771353, accuracy 93.0%\n",
      "step 24 loss 0.16793024602922052, accuracy 93.0%\n",
      "step 25 loss 0.16414380564920222, accuracy 93.0%\n",
      "step 26 loss 0.1601681002910134, accuracy 94.0%\n",
      "step 27 loss 0.15598828190717157, accuracy 94.0%\n",
      "step 28 loss 0.1516137388990523, accuracy 95.0%\n",
      "step 29 loss 0.14708374707427846, accuracy 95.0%\n",
      "step 30 loss 0.14246916130459258, accuracy 95.0%\n",
      "step 31 loss 0.13786229309326065, accuracy 95.0%\n",
      "step 32 loss 0.13335145377747054, accuracy 95.0%\n",
      "step 33 loss 0.12899510308023338, accuracy 95.0%\n",
      "step 34 loss 0.12481587112691758, accuracy 95.0%\n",
      "step 35 loss 0.12081258058640656, accuracy 97.0%\n",
      "step 36 loss 0.1169741857715884, accuracy 97.0%\n",
      "step 37 loss 0.11328741260046521, accuracy 98.0%\n",
      "step 38 loss 0.10973924238654459, accuracy 98.0%\n",
      "step 39 loss 0.10631737418547457, accuracy 98.0%\n",
      "step 40 loss 0.10301053643554858, accuracy 98.0%\n",
      "step 41 loss 0.09980929043466268, accuracy 98.0%\n",
      "step 42 loss 0.09670730601099263, accuracy 98.0%\n",
      "step 43 loss 0.09370270315848749, accuracy 98.0%\n",
      "step 44 loss 0.09079878460546457, accuracy 98.0%\n",
      "step 45 loss 0.08800348555377684, accuracy 98.0%\n",
      "step 46 loss 0.0853273649014626, accuracy 98.0%\n",
      "step 47 loss 0.0827807884066907, accuracy 98.0%\n",
      "step 48 loss 0.08037144378367173, accuracy 99.0%\n",
      "step 49 loss 0.07810302158210027, accuracy 99.0%\n",
      "step 50 loss 0.07597513979646264, accuracy 99.0%\n",
      "step 51 loss 0.07398405873819067, accuracy 99.0%\n",
      "step 52 loss 0.0721236649743319, accuracy 99.0%\n",
      "step 53 loss 0.07038639283082994, accuracy 99.0%\n",
      "step 54 loss 0.06876395350696231, accuracy 99.0%\n",
      "step 55 loss 0.06724786046109849, accuracy 99.0%\n",
      "step 56 loss 0.06582978511393445, accuracy 99.0%\n",
      "step 57 loss 0.0645017839076226, accuracy 99.0%\n",
      "step 58 loss 0.06325643146646864, accuracy 99.0%\n",
      "step 59 loss 0.062086886579995434, accuracy 99.0%\n",
      "step 60 loss 0.060986911307901646, accuracy 99.0%\n",
      "step 61 loss 0.05995085874497986, accuracy 99.0%\n",
      "step 62 loss 0.05897364126820807, accuracy 99.0%\n",
      "step 63 loss 0.05805068801181536, accuracy 99.0%\n",
      "step 64 loss 0.057177897745964774, accuracy 99.0%\n",
      "step 65 loss 0.05635159125996272, accuracy 99.0%\n",
      "step 66 loss 0.05556846576520679, accuracy 99.0%\n",
      "step 67 loss 0.054825552692836954, accuracy 99.0%\n",
      "step 68 loss 0.054120179491214386, accuracy 99.0%\n",
      "step 69 loss 0.05344993554248726, accuracy 99.0%\n",
      "step 70 loss 0.052812642034688245, accuracy 99.0%\n",
      "step 71 loss 0.05220632547943857, accuracy 99.0%\n",
      "step 72 loss 0.05162919450536364, accuracy 99.0%\n",
      "step 73 loss 0.05107961954862933, accuracy 99.0%\n",
      "step 74 loss 0.050556115081312976, accuracy 99.0%\n",
      "step 75 loss 0.050057324050974183, accuracy 99.0%\n",
      "step 76 loss 0.04958200424205145, accuracy 99.0%\n",
      "step 77 loss 0.049129016306694986, accuracy 99.0%\n",
      "step 78 loss 0.04869731324687959, accuracy 99.0%\n",
      "step 79 loss 0.048285931160077275, accuracy 99.0%\n",
      "step 80 loss 0.04789398108718573, accuracy 99.0%\n",
      "step 81 loss 0.04752064182399837, accuracy 99.0%\n",
      "step 82 loss 0.047165153576663385, accuracy 99.0%\n",
      "step 83 loss 0.04682681235777851, accuracy 100.0%\n",
      "step 84 loss 0.04650496503345533, accuracy 100.0%\n",
      "step 85 loss 0.046199004943285, accuracy 100.0%\n",
      "step 86 loss 0.04590836802500668, accuracy 100.0%\n",
      "step 87 loss 0.04563252938412316, accuracy 100.0%\n",
      "step 88 loss 0.045371000255983354, accuracy 100.0%\n",
      "step 89 loss 0.04512332531415491, accuracy 100.0%\n",
      "step 90 loss 0.044889080284414226, accuracy 100.0%\n",
      "step 91 loss 0.04466786982850831, accuracy 100.0%\n",
      "step 92 loss 0.044459325666103236, accuracy 100.0%\n",
      "step 93 loss 0.044263104907104035, accuracy 100.0%\n",
      "step 94 loss 0.044078888569881174, accuracy 100.0%\n",
      "step 95 loss 0.04390638026391667, accuracy 100.0%\n",
      "step 96 loss 0.043745305018035315, accuracy 100.0%\n",
      "step 97 loss 0.04359540823774835, accuracy 100.0%\n",
      "step 98 loss 0.04345645477733534, accuracy 100.0%\n",
      "step 99 loss 0.04332822811415689, accuracy 100.0%\n"
     ]
    }
   ],
   "source": [
    "# optimization\n",
    "for k in range(100):\n",
    "    \n",
    "    # forward\n",
    "    total_loss, acc = loss()\n",
    "    \n",
    "    # backward\n",
    "#     for p in model.parameters() :\n",
    "#         p.grad = 0\n",
    "    model.zero_grad()\n",
    "    total_loss.backward()\n",
    "    \n",
    "    # update (sgd)\n",
    "    learning_rate = 1 - 0.9*k/100\n",
    "    for p in model.parameters():\n",
    "        p.data -= learning_rate * p.grad\n",
    "    \n",
    "    if k % 1 == 0:\n",
    "        print(f\"step {k} loss {total_loss.data}, accuracy {acc*100}%\")"
   ]
  },
  {
   "cell_type": "code",
   "execution_count": 19,
   "id": "084c91f8",
   "metadata": {},
   "outputs": [
    {
     "data": {
      "text/plain": [
       "(-1.618547804492727, 1.881452195507273)"
      ]
     },
     "execution_count": 19,
     "metadata": {},
     "output_type": "execute_result"
    },
    {
     "data": {
      "image/png": "[encoded data removed]",
      "text/plain": [
       "<Figure size 432x288 with 1 Axes>"
      ]
     },
     "metadata": {
      "needs_background": "light"
     },
     "output_type": "display_data"
    }
   ],
   "source": [
    "# visualize decision boundary\n",
    "\n",
    "h = 0.25\n",
    "x_min, x_max = X[:, 0].min() - 1, X[:, 0].max() + 1\n",
    "y_min, y_max = X[:, 1].min() - 1, X[:, 1].max() + 1\n",
    "xx, yy = np.meshgrid(np.arange(x_min, x_max, h),\n",
    "                     np.arange(y_min, y_max, h)) # gets x and y coordinates of a meshgrid\n",
    "Xmesh = np.c_[xx.ravel(), yy.ravel()] # gets a list of coordinates (x,y)\n",
    "inputs = [list(map(Value, xrow)) for xrow in Xmesh] # gets a list of inputs : coordinates in mesh\n",
    "scores = list(map(model, inputs)) # gets the scores for each input\n",
    "Z = np.array([s[0].data > 0 for s in scores]) # stores 0s and 1s corresponding to label predicted\n",
    "Z = Z.reshape(xx.shape)\n",
    "\n",
    "fig = plt.figure()\n",
    "plt.contourf(xx, yy, Z, cmap=plt.cm.Spectral, alpha=0.8)\n",
    "plt.scatter(X[:, 0], X[:, 1], c=y, s=40, cmap=plt.cm.Spectral)\n",
    "plt.xlim(xx.min(), xx.max())\n",
    "plt.ylim(yy.min(), yy.max())"
   ]
  },
  {
   "cell_type": "code",
   "execution_count": 660,
   "id": "f79abd9b",
   "metadata": {},
   "outputs": [],
   "source": [
    "# End of analysis :)"
   ]
  },
  {
   "cell_type": "code",
   "execution_count": 141,
   "id": "ba99352f",
   "metadata": {},
   "outputs": [],
   "source": [
    "# My additions\n",
    "# testing the optimiser class\n",
    "\n",
    "# testing the MLP \n",
    "xs = [\n",
    "    [2,3,-1],\n",
    "    [3,-1,0.5],\n",
    "    [0.5,1,1],\n",
    "    [1,1,-1]\n",
    "]\n",
    "ys = [1,-1,-1,1]\n",
    "losslog1 = []\n",
    "losslog2 = []\n",
    "a1 = MLP(3, [4,4,1]) # optimising without momentum\n",
    "a2 = MLP(3, [4,4,1]) # optimising with momentum\n",
    "# making the initializations same to enable comparison\n",
    "for p1,p2 in zip(a1.parameters(), a2.parameters()) :\n",
    "    p2.data = p1.data # initializaing with the same parameters\n",
    "optim1 = SGD(a1.parameters(), lr=0.005)\n",
    "optim2 = SGD(a2.parameters(), lr=0.005, momentum=0.5)\n",
    "for step in range(100) : # 100 epochs\n",
    "    # forward passes\n",
    "    ypred = [a1(x)[0] for x in xs]\n",
    "    loss1 = sum((ypred-ytrue)**2 for ytrue, ypred in zip(ys, ypred))\n",
    "    losslog1.append(loss1)\n",
    "    \n",
    "    ypred = [a2(x)[0] for x in xs]\n",
    "    loss2 = sum((ypred-ytrue)**2 for ytrue, ypred in zip(ys, ypred))\n",
    "    losslog2.append(loss2)\n",
    "    \n",
    "    # backward passes\n",
    "#     for w in a.parameters() :\n",
    "#         w.grad = 0\n",
    "    a1.zero_grad()\n",
    "    loss1.backward()\n",
    "    a2.zero_grad()\n",
    "    loss2.backward()\n",
    "    \n",
    "    # update \n",
    "#     for w in a.parameters() :\n",
    "#         w.data -= 0.005 * w.grad\n",
    "    optim1.step()\n",
    "    optim2.step()\n",
    "    "
   ]
  },
  {
   "cell_type": "code",
   "execution_count": 142,
   "id": "6c589bd7",
   "metadata": {},
   "outputs": [
    {
     "data": {
      "text/plain": [
       "<matplotlib.legend.Legend at 0x1f494fc84c0>"
      ]
     },
     "execution_count": 142,
     "metadata": {},
     "output_type": "execute_result"
    },
    {
     "data": {
      "image/png": "[encoded data removed]",
      "text/plain": [
       "<Figure size 432x288 with 1 Axes>"
      ]
     },
     "metadata": {
      "needs_background": "light"
     },
     "output_type": "display_data"
    }
   ],
   "source": [
    "plt.plot([x.data for x in losslog1])\n",
    "plt.plot([x.data for x in losslog2])\n",
    "plt.legend(['w/0 momentum', 'w/ momentum'])"
   ]
  },
  {
   "cell_type": "code",
   "execution_count": 137,
   "id": "6e1648a6",
   "metadata": {},
   "outputs": [],
   "source": [
    "# showing the effect of momentum in action\n",
    "wlog = []\n",
    "blog = []\n",
    "wlog2 = []\n",
    "blog2 = []\n",
    "lr = 0.01\n",
    "mom = 0.5\n",
    "\n",
    "w0 = -5.\n",
    "b0 = 10.\n",
    "\n",
    "def loss(w, b) : # constructing en elliptical loss function\n",
    "    loss = 3*(w-2)**2 + (b-1)**2\n",
    "    return loss\n",
    "\n",
    "w = Value(w0, label='a')\n",
    "b = Value(b0, label='b')\n",
    "wlog.append(w.data)\n",
    "blog.append(b.data)\n",
    "\n",
    "for _ in range(20) :\n",
    "    l = loss(w, b)\n",
    "    \n",
    "    w.grad, b.grad = 0,0\n",
    "    l.backward()\n",
    "    w.data -= lr * w.grad\n",
    "    b.data -= lr * b.grad\n",
    "    wlog.append(w.data)\n",
    "    blog.append(b.data)\n",
    "    \n",
    "# WITH MOMENTUM\n",
    "\n",
    "w = Value(w0, label='a')\n",
    "b = Value(b0, label='b')\n",
    "wlog2.append(w.data)\n",
    "blog2.append(b.data)\n",
    "\n",
    "for _ in range(30) :\n",
    "    l = loss(w, b)\n",
    "    \n",
    "    w.grad, b.grad = 0,0\n",
    "    l.backward()\n",
    "    if _ == 0 :\n",
    "        wdel = w.grad\n",
    "        bdel = b.grad\n",
    "    else :\n",
    "        wdel = mom*wdel + w.grad\n",
    "        bdel = mom*bdel + b.grad\n",
    "    w.data -= lr * wdel\n",
    "    b.data -= lr * bdel\n",
    "    wlog2.append(w.data)\n",
    "    blog2.append(b.data)\n"
   ]
  },
  {
   "cell_type": "code",
   "execution_count": 138,
   "id": "942dc550",
   "metadata": {},
   "outputs": [
    {
     "name": "stdout",
     "output_type": "stream",
     "text": [
      "48.47349249811065\n",
      "6.901258860665083\n"
     ]
    }
   ],
   "source": [
    "# final losses\n",
    "print(loss(wlog[-1], blog[-1]))\n",
    "print(loss(wlog2[-1], blog2[-1]))"
   ]
  },
  {
   "cell_type": "code",
   "execution_count": 139,
   "id": "975ff956",
   "metadata": {},
   "outputs": [
    {
     "data": {
      "image/png": "[encoded data removed]",
      "text/plain": [
       "<Figure size 432x432 with 1 Axes>"
      ]
     },
     "metadata": {
      "needs_background": "light"
     },
     "output_type": "display_data"
    }
   ],
   "source": [
    "u=2.     #x-position of the center\n",
    "v=1.    #y-position of the center\n",
    "b=np.array([1,2.5, 4.5, 7.5, 10])     #radius on the x-axis\n",
    "a=b/(3**0.5)    #radius on the y-axis\n",
    "\n",
    "t = np.linspace(0, 2*3.14, 100)\n",
    "plt.figure(figsize=(6,6))\n",
    "for x,y in zip(a,b) :\n",
    "    plt.plot( u+x*np.cos(t) , v+y*np.sin(t), color='black')\n",
    "plt.grid(color='lightgray',linestyle='--')\n",
    "plt.scatter(x=wlog, y=blog, label='w/o momentum')\n",
    "plt.scatter(x=wlog2, y=blog2, label='w/ momentum')\n",
    "plt.xlim([-10, 15])\n",
    "plt.ylim([-10,15])\n",
    "plt.show()"
   ]
  },
  {
   "cell_type": "code",
   "execution_count": null,
   "id": "0e27bcd7",
   "metadata": {},
   "outputs": [],
   "source": []
  },
  {
   "cell_type": "code",
   "execution_count": 62,
   "id": "493a01ca",
   "metadata": {},
   "outputs": [
    {
     "data": {
      "text/plain": [
       "[Value(data=-0.39899262412539094), Value(data=0.9261434029836142)]"
      ]
     },
     "execution_count": 62,
     "metadata": {},
     "output_type": "execute_result"
    }
   ],
   "source": [
    "a1.parameters()"
   ]
  },
  {
   "cell_type": "code",
   "execution_count": 59,
   "id": "ba4455b8",
   "metadata": {},
   "outputs": [],
   "source": [
    "xs = [\n",
    "    [2],\n",
    "    [3],\n",
    "    [0.5],\n",
    "    [1]\n",
    "]\n",
    "ys = [2*x[0]+1 for x in xs]"
   ]
  },
  {
   "cell_type": "code",
   "execution_count": 60,
   "id": "1b7122ea",
   "metadata": {},
   "outputs": [
    {
     "data": {
      "text/plain": [
       "[5, 7, 2.0, 3]"
      ]
     },
     "execution_count": 60,
     "metadata": {},
     "output_type": "execute_result"
    }
   ],
   "source": [
    "ys"
   ]
  },
  {
   "cell_type": "code",
   "execution_count": 58,
   "id": "699f7359",
   "metadata": {},
   "outputs": [
    {
     "data": {
      "text/plain": [
       "[2]"
      ]
     },
     "execution_count": 58,
     "metadata": {},
     "output_type": "execute_result"
    }
   ],
   "source": [
    "xs[0]"
   ]
  },
  {
   "cell_type": "code",
   "execution_count": 46,
   "id": "53c570e8",
   "metadata": {},
   "outputs": [],
   "source": [
    "a1.parameters()[0].data += 1"
   ]
  },
  {
   "cell_type": "code",
   "execution_count": 47,
   "id": "ab9cbdfe",
   "metadata": {},
   "outputs": [
    {
     "data": {
      "text/plain": [
       "[Value(data=1.9074271513218444),\n",
       " Value(data=-0.3109813448272196),\n",
       " Value(data=0.9065185172734642),\n",
       " Value(data=-0.030963505807057867)]"
      ]
     },
     "execution_count": 47,
     "metadata": {},
     "output_type": "execute_result"
    }
   ],
   "source": [
    "a1.parameters()"
   ]
  },
  {
   "cell_type": "code",
   "execution_count": 48,
   "id": "5f3c4531",
   "metadata": {},
   "outputs": [
    {
     "data": {
      "text/plain": [
       "[Value(data=0.9074271513218444),\n",
       " Value(data=-0.3109813448272196),\n",
       " Value(data=0.9065185172734642),\n",
       " Value(data=-0.030963505807057867)]"
      ]
     },
     "execution_count": 48,
     "metadata": {},
     "output_type": "execute_result"
    }
   ],
   "source": [
    "a2.parameters()"
   ]
  },
  {
   "cell_type": "code",
   "execution_count": null,
   "id": "9ad14edb",
   "metadata": {},
   "outputs": [],
   "source": []
  }
 ],
 "metadata": {
  "kernelspec": {
   "display_name": "Python 3",
   "language": "python",
   "name": "python3"
  },
  "language_info": {
   "codemirror_mode": {
    "name": "ipython",
    "version": 3
   },
   "file_extension": ".py",
   "mimetype": "text/x-python",
   "name": "python",
   "nbconvert_exporter": "python",
   "pygments_lexer": "ipython3",
   "version": "3.8.8"
  }
 },
 "nbformat": 4,
 "nbformat_minor": 5
}
